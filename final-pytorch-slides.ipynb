{
 "cells": [
  {
   "cell_type": "code",
   "execution_count": 1,
   "metadata": {
    "slideshow": {
     "slide_type": "skip"
    }
   },
   "outputs": [
    {
     "name": "stderr",
     "output_type": "stream",
     "text": [
      "WARNING    /Users/grantmak/opt/anaconda3/lib/python3.7/site-packages/statsmodels/tools/_testing.py:19: FutureWarning: pandas.util.testing is deprecated. Use the functions in the public API at pandas.testing instead.\n",
      "  import pandas.util.testing as tm\n",
      " [py.warnings]\n"
     ]
    }
   ],
   "source": [
    "from brian2 import *\n",
    "import numpy as np\n",
    "import pandas as pd\n",
    "import matplotlib.pyplot as plt\n",
    "import seaborn as sns\n",
    "import torch\n",
    "import torch.nn as nn\n",
    "import torch.optim as optim\n",
    "from torch.utils.data import Dataset, DataLoader\n",
    "from sklearn.preprocessing import StandardScaler    \n",
    "from sklearn.model_selection import train_test_split\n",
    "from sklearn.metrics import confusion_matrix, classification_report\n",
    "\n",
    "admissions = pd.read_csv(\"./data/ADMISSIONS.csv\")\n",
    "diagnoses = pd.read_csv(\"./data/DIAGNOSES_ICD.csv\")\n",
    "diagnoses_codes = pd.read_csv(\"./data/D_ICD_DIAGNOSES.csv\")\n",
    "patients = pd.read_csv(\"./data/PATIENTS.csv\")\n",
    "procedures = pd.read_csv(\"./data/PROCEDURES_ICD.csv\")\n",
    "procedures_codes = pd.read_csv(\"./data/D_ICD_PROCEDURES.csv\")"
   ]
  },
  {
   "cell_type": "markdown",
   "metadata": {
    "slideshow": {
     "slide_type": "slide"
    }
   },
   "source": [
    "# BME 503: Computational Nueroengineering\n",
    "# Long Term Mortality Prediction with a Backpropated Feedforward Neural Network"
   ]
  },
  {
   "cell_type": "markdown",
   "metadata": {
    "slideshow": {
     "slide_type": "slide"
    }
   },
   "source": [
    "## Background\n",
    "### Continuity of Care\n",
    "Quality and level of care over a period of time.\n",
    "### Population Health\n",
    "Overall health outcome of a community of people."
   ]
  },
  {
   "cell_type": "markdown",
   "metadata": {
    "slideshow": {
     "slide_type": "slide"
    }
   },
   "source": [
    "## Long Term Health and Mortality\n",
    "Looking at a patient's health after their discharge from the hospital.\n",
    "\n",
    "What if we could know a patient's risk of dying up to one year after a hospital visit?\n"
   ]
  },
  {
   "cell_type": "markdown",
   "metadata": {
    "slideshow": {
     "slide_type": "subslide"
    }
   },
   "source": [
    "## Problem Statement\n",
    "Physicians need a method to perdict long term mortality, up to one year in the future, to maintain continuity of care and increase overall population health."
   ]
  },
  {
   "cell_type": "markdown",
   "metadata": {
    "slideshow": {
     "slide_type": "notes"
    }
   },
   "source": [
    "Patients usually go to a hospital to be for a single condition or injury. The caretakers will treat them, recommend further action if needed, and if all goes well, that patient will be discharged. What happens, however, if an unforseen complication arises after they are discharged from the hospital? Even worse, what if this condition is fatal? This is a less-than-rare problem that many healthcare systems, particularly those focused on population health or continuity of care, should be trying to solve. In this setting, population health is defined as the health outcome of the community of people that a healthcare system is providing for; continuity of care refers to the quality and level of care over a period of time.\n",
    "\n",
    "In order to improve both population health and continuity of care then, treatments need to extend beyond the hospital interaction. If physicians and caretakers had a way to know long term mortality rate, then they could recommend further treatment - whether that be in-house care, follow up visits, or pallative care consults. With a stronger action plan, the long term mortality rate could be significantly lowered. Therefore, physicans need a method to predict long term mortality, up to one year in the future, in order to maintain continuity of care and increase overall population health. "
   ]
  },
  {
   "cell_type": "markdown",
   "metadata": {
    "slideshow": {
     "slide_type": "slide"
    }
   },
   "source": [
    "## Data\n",
    "Acquired from the MIMIC-III database, a dataset on ICU admissions compiled by MIT."
   ]
  },
  {
   "cell_type": "markdown",
   "metadata": {
    "slideshow": {
     "slide_type": "notes"
    }
   },
   "source": [
    "Data from the MIMIC-III database was used to create a FNN to predict whether or not a patient will die within one year of their initial admission to the hospital. The following tables were used:\n",
    "- Admissions: information regarding a patient’s admission to the hospital\n",
    "- Diagnoses: information regarding a patient's ICD diagnosis\n",
    "- Patients: information regarding a patient's gender, age, and DOB/DOD\n",
    "- Procedures: information regarding any ICD procedures performed on a patient\n",
    "\n",
    "Since long term mortality was being investigated, subject who died during their hospital stay were removed from the Admissions table. Next, this subset was combined with the Patients table, which contained information about date of death. Finally, nonrelevant data was removed, and the following was kept:\n",
    "- SUBJECT_ID: for future data joining\n",
    "- HADM_ID: for future data joining\n",
    "- MARITAL_STATUS: to see if having another person in the household had an effect\n",
    "- INSURANCE: to see if access to healthcare had an effect\n",
    "- DISCHARGE_LOCATION: to see if being sent home without further treatment had an effect"
   ]
  },
  {
   "cell_type": "markdown",
   "metadata": {
    "slideshow": {
     "slide_type": "slide"
    }
   },
   "source": [
    "## Admissions"
   ]
  },
  {
   "cell_type": "code",
   "execution_count": 2,
   "metadata": {
    "slideshow": {
     "slide_type": "subslide"
    }
   },
   "outputs": [
    {
     "data": {
      "text/html": [
       "<div>\n",
       "<style scoped>\n",
       "    .dataframe tbody tr th:only-of-type {\n",
       "        vertical-align: middle;\n",
       "    }\n",
       "\n",
       "    .dataframe tbody tr th {\n",
       "        vertical-align: top;\n",
       "    }\n",
       "\n",
       "    .dataframe thead th {\n",
       "        text-align: right;\n",
       "    }\n",
       "</style>\n",
       "<table border=\"1\" class=\"dataframe\">\n",
       "  <thead>\n",
       "    <tr style=\"text-align: right;\">\n",
       "      <th></th>\n",
       "      <th>ROW_ID</th>\n",
       "      <th>SUBJECT_ID</th>\n",
       "      <th>HADM_ID</th>\n",
       "      <th>ADMITTIME</th>\n",
       "      <th>DISCHTIME</th>\n",
       "      <th>DEATHTIME</th>\n",
       "      <th>ADMISSION_TYPE</th>\n",
       "      <th>ADMISSION_LOCATION</th>\n",
       "      <th>DISCHARGE_LOCATION</th>\n",
       "      <th>INSURANCE</th>\n",
       "      <th>LANGUAGE</th>\n",
       "      <th>RELIGION</th>\n",
       "      <th>MARITAL_STATUS</th>\n",
       "      <th>ETHNICITY</th>\n",
       "      <th>EDREGTIME</th>\n",
       "      <th>EDOUTTIME</th>\n",
       "      <th>DIAGNOSIS</th>\n",
       "      <th>HOSPITAL_EXPIRE_FLAG</th>\n",
       "      <th>HAS_CHARTEVENTS_DATA</th>\n",
       "    </tr>\n",
       "  </thead>\n",
       "  <tbody>\n",
       "    <tr>\n",
       "      <th>0</th>\n",
       "      <td>21</td>\n",
       "      <td>22</td>\n",
       "      <td>165315</td>\n",
       "      <td>2196-04-09 12:26:00</td>\n",
       "      <td>2196-04-10 15:54:00</td>\n",
       "      <td>NaN</td>\n",
       "      <td>EMERGENCY</td>\n",
       "      <td>EMERGENCY ROOM ADMIT</td>\n",
       "      <td>DISC-TRAN CANCER/CHLDRN H</td>\n",
       "      <td>Private</td>\n",
       "      <td>NaN</td>\n",
       "      <td>UNOBTAINABLE</td>\n",
       "      <td>MARRIED</td>\n",
       "      <td>WHITE</td>\n",
       "      <td>2196-04-09 10:06:00</td>\n",
       "      <td>2196-04-09 13:24:00</td>\n",
       "      <td>BENZODIAZEPINE OVERDOSE</td>\n",
       "      <td>0</td>\n",
       "      <td>1</td>\n",
       "    </tr>\n",
       "    <tr>\n",
       "      <th>1</th>\n",
       "      <td>22</td>\n",
       "      <td>23</td>\n",
       "      <td>152223</td>\n",
       "      <td>2153-09-03 07:15:00</td>\n",
       "      <td>2153-09-08 19:10:00</td>\n",
       "      <td>NaN</td>\n",
       "      <td>ELECTIVE</td>\n",
       "      <td>PHYS REFERRAL/NORMAL DELI</td>\n",
       "      <td>HOME HEALTH CARE</td>\n",
       "      <td>Medicare</td>\n",
       "      <td>NaN</td>\n",
       "      <td>CATHOLIC</td>\n",
       "      <td>MARRIED</td>\n",
       "      <td>WHITE</td>\n",
       "      <td>NaN</td>\n",
       "      <td>NaN</td>\n",
       "      <td>CORONARY ARTERY DISEASE\\CORONARY ARTERY BYPASS...</td>\n",
       "      <td>0</td>\n",
       "      <td>1</td>\n",
       "    </tr>\n",
       "    <tr>\n",
       "      <th>2</th>\n",
       "      <td>23</td>\n",
       "      <td>23</td>\n",
       "      <td>124321</td>\n",
       "      <td>2157-10-18 19:34:00</td>\n",
       "      <td>2157-10-25 14:00:00</td>\n",
       "      <td>NaN</td>\n",
       "      <td>EMERGENCY</td>\n",
       "      <td>TRANSFER FROM HOSP/EXTRAM</td>\n",
       "      <td>HOME HEALTH CARE</td>\n",
       "      <td>Medicare</td>\n",
       "      <td>ENGL</td>\n",
       "      <td>CATHOLIC</td>\n",
       "      <td>MARRIED</td>\n",
       "      <td>WHITE</td>\n",
       "      <td>NaN</td>\n",
       "      <td>NaN</td>\n",
       "      <td>BRAIN MASS</td>\n",
       "      <td>0</td>\n",
       "      <td>1</td>\n",
       "    </tr>\n",
       "    <tr>\n",
       "      <th>3</th>\n",
       "      <td>24</td>\n",
       "      <td>24</td>\n",
       "      <td>161859</td>\n",
       "      <td>2139-06-06 16:14:00</td>\n",
       "      <td>2139-06-09 12:48:00</td>\n",
       "      <td>NaN</td>\n",
       "      <td>EMERGENCY</td>\n",
       "      <td>TRANSFER FROM HOSP/EXTRAM</td>\n",
       "      <td>HOME</td>\n",
       "      <td>Private</td>\n",
       "      <td>NaN</td>\n",
       "      <td>PROTESTANT QUAKER</td>\n",
       "      <td>SINGLE</td>\n",
       "      <td>WHITE</td>\n",
       "      <td>NaN</td>\n",
       "      <td>NaN</td>\n",
       "      <td>INTERIOR MYOCARDIAL INFARCTION</td>\n",
       "      <td>0</td>\n",
       "      <td>1</td>\n",
       "    </tr>\n",
       "    <tr>\n",
       "      <th>4</th>\n",
       "      <td>25</td>\n",
       "      <td>25</td>\n",
       "      <td>129635</td>\n",
       "      <td>2160-11-02 02:06:00</td>\n",
       "      <td>2160-11-05 14:55:00</td>\n",
       "      <td>NaN</td>\n",
       "      <td>EMERGENCY</td>\n",
       "      <td>EMERGENCY ROOM ADMIT</td>\n",
       "      <td>HOME</td>\n",
       "      <td>Private</td>\n",
       "      <td>NaN</td>\n",
       "      <td>UNOBTAINABLE</td>\n",
       "      <td>MARRIED</td>\n",
       "      <td>WHITE</td>\n",
       "      <td>2160-11-02 01:01:00</td>\n",
       "      <td>2160-11-02 04:27:00</td>\n",
       "      <td>ACUTE CORONARY SYNDROME</td>\n",
       "      <td>0</td>\n",
       "      <td>1</td>\n",
       "    </tr>\n",
       "  </tbody>\n",
       "</table>\n",
       "</div>"
      ],
      "text/plain": [
       "   ROW_ID  SUBJECT_ID  HADM_ID            ADMITTIME            DISCHTIME  \\\n",
       "0      21          22   165315  2196-04-09 12:26:00  2196-04-10 15:54:00   \n",
       "1      22          23   152223  2153-09-03 07:15:00  2153-09-08 19:10:00   \n",
       "2      23          23   124321  2157-10-18 19:34:00  2157-10-25 14:00:00   \n",
       "3      24          24   161859  2139-06-06 16:14:00  2139-06-09 12:48:00   \n",
       "4      25          25   129635  2160-11-02 02:06:00  2160-11-05 14:55:00   \n",
       "\n",
       "  DEATHTIME ADMISSION_TYPE         ADMISSION_LOCATION  \\\n",
       "0       NaN      EMERGENCY       EMERGENCY ROOM ADMIT   \n",
       "1       NaN       ELECTIVE  PHYS REFERRAL/NORMAL DELI   \n",
       "2       NaN      EMERGENCY  TRANSFER FROM HOSP/EXTRAM   \n",
       "3       NaN      EMERGENCY  TRANSFER FROM HOSP/EXTRAM   \n",
       "4       NaN      EMERGENCY       EMERGENCY ROOM ADMIT   \n",
       "\n",
       "          DISCHARGE_LOCATION INSURANCE LANGUAGE           RELIGION  \\\n",
       "0  DISC-TRAN CANCER/CHLDRN H   Private      NaN       UNOBTAINABLE   \n",
       "1           HOME HEALTH CARE  Medicare      NaN           CATHOLIC   \n",
       "2           HOME HEALTH CARE  Medicare     ENGL           CATHOLIC   \n",
       "3                       HOME   Private      NaN  PROTESTANT QUAKER   \n",
       "4                       HOME   Private      NaN       UNOBTAINABLE   \n",
       "\n",
       "  MARITAL_STATUS ETHNICITY            EDREGTIME            EDOUTTIME  \\\n",
       "0        MARRIED     WHITE  2196-04-09 10:06:00  2196-04-09 13:24:00   \n",
       "1        MARRIED     WHITE                  NaN                  NaN   \n",
       "2        MARRIED     WHITE                  NaN                  NaN   \n",
       "3         SINGLE     WHITE                  NaN                  NaN   \n",
       "4        MARRIED     WHITE  2160-11-02 01:01:00  2160-11-02 04:27:00   \n",
       "\n",
       "                                           DIAGNOSIS  HOSPITAL_EXPIRE_FLAG  \\\n",
       "0                            BENZODIAZEPINE OVERDOSE                     0   \n",
       "1  CORONARY ARTERY DISEASE\\CORONARY ARTERY BYPASS...                     0   \n",
       "2                                         BRAIN MASS                     0   \n",
       "3                     INTERIOR MYOCARDIAL INFARCTION                     0   \n",
       "4                            ACUTE CORONARY SYNDROME                     0   \n",
       "\n",
       "   HAS_CHARTEVENTS_DATA  \n",
       "0                     1  \n",
       "1                     1  \n",
       "2                     1  \n",
       "3                     1  \n",
       "4                     1  "
      ]
     },
     "execution_count": 2,
     "metadata": {},
     "output_type": "execute_result"
    }
   ],
   "source": [
    "admissions.head()"
   ]
  },
  {
   "cell_type": "markdown",
   "metadata": {
    "slideshow": {
     "slide_type": "slide"
    }
   },
   "source": [
    "## Patients"
   ]
  },
  {
   "cell_type": "code",
   "execution_count": 3,
   "metadata": {
    "slideshow": {
     "slide_type": "subslide"
    }
   },
   "outputs": [
    {
     "data": {
      "text/html": [
       "<div>\n",
       "<style scoped>\n",
       "    .dataframe tbody tr th:only-of-type {\n",
       "        vertical-align: middle;\n",
       "    }\n",
       "\n",
       "    .dataframe tbody tr th {\n",
       "        vertical-align: top;\n",
       "    }\n",
       "\n",
       "    .dataframe thead th {\n",
       "        text-align: right;\n",
       "    }\n",
       "</style>\n",
       "<table border=\"1\" class=\"dataframe\">\n",
       "  <thead>\n",
       "    <tr style=\"text-align: right;\">\n",
       "      <th></th>\n",
       "      <th>ROW_ID</th>\n",
       "      <th>SUBJECT_ID</th>\n",
       "      <th>GENDER</th>\n",
       "      <th>DOB</th>\n",
       "      <th>DOD</th>\n",
       "      <th>DOD_HOSP</th>\n",
       "      <th>DOD_SSN</th>\n",
       "      <th>EXPIRE_FLAG</th>\n",
       "    </tr>\n",
       "  </thead>\n",
       "  <tbody>\n",
       "    <tr>\n",
       "      <th>0</th>\n",
       "      <td>234</td>\n",
       "      <td>249</td>\n",
       "      <td>F</td>\n",
       "      <td>2075-03-13 00:00:00</td>\n",
       "      <td>NaN</td>\n",
       "      <td>NaN</td>\n",
       "      <td>NaN</td>\n",
       "      <td>0</td>\n",
       "    </tr>\n",
       "    <tr>\n",
       "      <th>1</th>\n",
       "      <td>235</td>\n",
       "      <td>250</td>\n",
       "      <td>F</td>\n",
       "      <td>2164-12-27 00:00:00</td>\n",
       "      <td>2188-11-22 00:00:00</td>\n",
       "      <td>2188-11-22 00:00:00</td>\n",
       "      <td>NaN</td>\n",
       "      <td>1</td>\n",
       "    </tr>\n",
       "    <tr>\n",
       "      <th>2</th>\n",
       "      <td>236</td>\n",
       "      <td>251</td>\n",
       "      <td>M</td>\n",
       "      <td>2090-03-15 00:00:00</td>\n",
       "      <td>NaN</td>\n",
       "      <td>NaN</td>\n",
       "      <td>NaN</td>\n",
       "      <td>0</td>\n",
       "    </tr>\n",
       "    <tr>\n",
       "      <th>3</th>\n",
       "      <td>237</td>\n",
       "      <td>252</td>\n",
       "      <td>M</td>\n",
       "      <td>2078-03-06 00:00:00</td>\n",
       "      <td>NaN</td>\n",
       "      <td>NaN</td>\n",
       "      <td>NaN</td>\n",
       "      <td>0</td>\n",
       "    </tr>\n",
       "    <tr>\n",
       "      <th>4</th>\n",
       "      <td>238</td>\n",
       "      <td>253</td>\n",
       "      <td>F</td>\n",
       "      <td>2089-11-26 00:00:00</td>\n",
       "      <td>NaN</td>\n",
       "      <td>NaN</td>\n",
       "      <td>NaN</td>\n",
       "      <td>0</td>\n",
       "    </tr>\n",
       "  </tbody>\n",
       "</table>\n",
       "</div>"
      ],
      "text/plain": [
       "   ROW_ID  SUBJECT_ID GENDER                  DOB                  DOD  \\\n",
       "0     234         249      F  2075-03-13 00:00:00                  NaN   \n",
       "1     235         250      F  2164-12-27 00:00:00  2188-11-22 00:00:00   \n",
       "2     236         251      M  2090-03-15 00:00:00                  NaN   \n",
       "3     237         252      M  2078-03-06 00:00:00                  NaN   \n",
       "4     238         253      F  2089-11-26 00:00:00                  NaN   \n",
       "\n",
       "              DOD_HOSP DOD_SSN  EXPIRE_FLAG  \n",
       "0                  NaN     NaN            0  \n",
       "1  2188-11-22 00:00:00     NaN            1  \n",
       "2                  NaN     NaN            0  \n",
       "3                  NaN     NaN            0  \n",
       "4                  NaN     NaN            0  "
      ]
     },
     "execution_count": 3,
     "metadata": {},
     "output_type": "execute_result"
    }
   ],
   "source": [
    "patients.head()"
   ]
  },
  {
   "cell_type": "markdown",
   "metadata": {
    "slideshow": {
     "slide_type": "slide"
    }
   },
   "source": [
    "## Procedures"
   ]
  },
  {
   "cell_type": "code",
   "execution_count": 40,
   "metadata": {
    "slideshow": {
     "slide_type": "subslide"
    }
   },
   "outputs": [
    {
     "data": {
      "text/html": [
       "<div>\n",
       "<style scoped>\n",
       "    .dataframe tbody tr th:only-of-type {\n",
       "        vertical-align: middle;\n",
       "    }\n",
       "\n",
       "    .dataframe tbody tr th {\n",
       "        vertical-align: top;\n",
       "    }\n",
       "\n",
       "    .dataframe thead th {\n",
       "        text-align: right;\n",
       "    }\n",
       "</style>\n",
       "<table border=\"1\" class=\"dataframe\">\n",
       "  <thead>\n",
       "    <tr style=\"text-align: right;\">\n",
       "      <th></th>\n",
       "      <th>ROW_ID</th>\n",
       "      <th>SUBJECT_ID</th>\n",
       "      <th>HADM_ID</th>\n",
       "      <th>SEQ_NUM</th>\n",
       "      <th>ICD9_CODE</th>\n",
       "    </tr>\n",
       "  </thead>\n",
       "  <tbody>\n",
       "    <tr>\n",
       "      <th>0</th>\n",
       "      <td>944</td>\n",
       "      <td>62641</td>\n",
       "      <td>154460</td>\n",
       "      <td>3</td>\n",
       "      <td>3404</td>\n",
       "    </tr>\n",
       "    <tr>\n",
       "      <th>1</th>\n",
       "      <td>945</td>\n",
       "      <td>2592</td>\n",
       "      <td>130856</td>\n",
       "      <td>1</td>\n",
       "      <td>9671</td>\n",
       "    </tr>\n",
       "    <tr>\n",
       "      <th>2</th>\n",
       "      <td>946</td>\n",
       "      <td>2592</td>\n",
       "      <td>130856</td>\n",
       "      <td>2</td>\n",
       "      <td>3893</td>\n",
       "    </tr>\n",
       "    <tr>\n",
       "      <th>3</th>\n",
       "      <td>947</td>\n",
       "      <td>55357</td>\n",
       "      <td>119355</td>\n",
       "      <td>1</td>\n",
       "      <td>9672</td>\n",
       "    </tr>\n",
       "    <tr>\n",
       "      <th>4</th>\n",
       "      <td>948</td>\n",
       "      <td>55357</td>\n",
       "      <td>119355</td>\n",
       "      <td>2</td>\n",
       "      <td>331</td>\n",
       "    </tr>\n",
       "  </tbody>\n",
       "</table>\n",
       "</div>"
      ],
      "text/plain": [
       "   ROW_ID  SUBJECT_ID  HADM_ID  SEQ_NUM  ICD9_CODE\n",
       "0     944       62641   154460        3       3404\n",
       "1     945        2592   130856        1       9671\n",
       "2     946        2592   130856        2       3893\n",
       "3     947       55357   119355        1       9672\n",
       "4     948       55357   119355        2        331"
      ]
     },
     "execution_count": 40,
     "metadata": {},
     "output_type": "execute_result"
    }
   ],
   "source": [
    "procedures.head()"
   ]
  },
  {
   "cell_type": "code",
   "execution_count": 41,
   "metadata": {
    "slideshow": {
     "slide_type": "subslide"
    }
   },
   "outputs": [
    {
     "data": {
      "text/html": [
       "<div>\n",
       "<style scoped>\n",
       "    .dataframe tbody tr th:only-of-type {\n",
       "        vertical-align: middle;\n",
       "    }\n",
       "\n",
       "    .dataframe tbody tr th {\n",
       "        vertical-align: top;\n",
       "    }\n",
       "\n",
       "    .dataframe thead th {\n",
       "        text-align: right;\n",
       "    }\n",
       "</style>\n",
       "<table border=\"1\" class=\"dataframe\">\n",
       "  <thead>\n",
       "    <tr style=\"text-align: right;\">\n",
       "      <th></th>\n",
       "      <th>ROW_ID</th>\n",
       "      <th>ICD9_CODE</th>\n",
       "      <th>SHORT_TITLE</th>\n",
       "      <th>LONG_TITLE</th>\n",
       "    </tr>\n",
       "  </thead>\n",
       "  <tbody>\n",
       "    <tr>\n",
       "      <th>0</th>\n",
       "      <td>264</td>\n",
       "      <td>851</td>\n",
       "      <td>Canthotomy</td>\n",
       "      <td>Canthotomy</td>\n",
       "    </tr>\n",
       "    <tr>\n",
       "      <th>1</th>\n",
       "      <td>265</td>\n",
       "      <td>852</td>\n",
       "      <td>Blepharorrhaphy</td>\n",
       "      <td>Blepharorrhaphy</td>\n",
       "    </tr>\n",
       "    <tr>\n",
       "      <th>2</th>\n",
       "      <td>266</td>\n",
       "      <td>859</td>\n",
       "      <td>Adjust lid position NEC</td>\n",
       "      <td>Other adjustment of lid position</td>\n",
       "    </tr>\n",
       "    <tr>\n",
       "      <th>3</th>\n",
       "      <td>267</td>\n",
       "      <td>861</td>\n",
       "      <td>Lid reconst w skin graft</td>\n",
       "      <td>Reconstruction of eyelid with skin flap or graft</td>\n",
       "    </tr>\n",
       "    <tr>\n",
       "      <th>4</th>\n",
       "      <td>268</td>\n",
       "      <td>862</td>\n",
       "      <td>Lid reconst w muc graft</td>\n",
       "      <td>Reconstruction of eyelid with mucous membrane ...</td>\n",
       "    </tr>\n",
       "  </tbody>\n",
       "</table>\n",
       "</div>"
      ],
      "text/plain": [
       "   ROW_ID  ICD9_CODE               SHORT_TITLE  \\\n",
       "0     264        851                Canthotomy   \n",
       "1     265        852           Blepharorrhaphy   \n",
       "2     266        859   Adjust lid position NEC   \n",
       "3     267        861  Lid reconst w skin graft   \n",
       "4     268        862   Lid reconst w muc graft   \n",
       "\n",
       "                                          LONG_TITLE  \n",
       "0                                         Canthotomy  \n",
       "1                                    Blepharorrhaphy  \n",
       "2                   Other adjustment of lid position  \n",
       "3   Reconstruction of eyelid with skin flap or graft  \n",
       "4  Reconstruction of eyelid with mucous membrane ...  "
      ]
     },
     "execution_count": 41,
     "metadata": {},
     "output_type": "execute_result"
    }
   ],
   "source": [
    "procedures_codes.head()"
   ]
  },
  {
   "cell_type": "markdown",
   "metadata": {
    "slideshow": {
     "slide_type": "slide"
    }
   },
   "source": [
    "## Diagnoses"
   ]
  },
  {
   "cell_type": "code",
   "execution_count": 6,
   "metadata": {
    "slideshow": {
     "slide_type": "subslide"
    }
   },
   "outputs": [
    {
     "data": {
      "text/html": [
       "<div>\n",
       "<style scoped>\n",
       "    .dataframe tbody tr th:only-of-type {\n",
       "        vertical-align: middle;\n",
       "    }\n",
       "\n",
       "    .dataframe tbody tr th {\n",
       "        vertical-align: top;\n",
       "    }\n",
       "\n",
       "    .dataframe thead th {\n",
       "        text-align: right;\n",
       "    }\n",
       "</style>\n",
       "<table border=\"1\" class=\"dataframe\">\n",
       "  <thead>\n",
       "    <tr style=\"text-align: right;\">\n",
       "      <th></th>\n",
       "      <th>ROW_ID</th>\n",
       "      <th>SUBJECT_ID</th>\n",
       "      <th>HADM_ID</th>\n",
       "      <th>SEQ_NUM</th>\n",
       "      <th>ICD9_CODE</th>\n",
       "    </tr>\n",
       "  </thead>\n",
       "  <tbody>\n",
       "    <tr>\n",
       "      <th>0</th>\n",
       "      <td>1297</td>\n",
       "      <td>109</td>\n",
       "      <td>172335</td>\n",
       "      <td>1.0</td>\n",
       "      <td>40301</td>\n",
       "    </tr>\n",
       "    <tr>\n",
       "      <th>1</th>\n",
       "      <td>1298</td>\n",
       "      <td>109</td>\n",
       "      <td>172335</td>\n",
       "      <td>2.0</td>\n",
       "      <td>486</td>\n",
       "    </tr>\n",
       "    <tr>\n",
       "      <th>2</th>\n",
       "      <td>1299</td>\n",
       "      <td>109</td>\n",
       "      <td>172335</td>\n",
       "      <td>3.0</td>\n",
       "      <td>58281</td>\n",
       "    </tr>\n",
       "    <tr>\n",
       "      <th>3</th>\n",
       "      <td>1300</td>\n",
       "      <td>109</td>\n",
       "      <td>172335</td>\n",
       "      <td>4.0</td>\n",
       "      <td>5855</td>\n",
       "    </tr>\n",
       "    <tr>\n",
       "      <th>4</th>\n",
       "      <td>1301</td>\n",
       "      <td>109</td>\n",
       "      <td>172335</td>\n",
       "      <td>5.0</td>\n",
       "      <td>4254</td>\n",
       "    </tr>\n",
       "  </tbody>\n",
       "</table>\n",
       "</div>"
      ],
      "text/plain": [
       "   ROW_ID  SUBJECT_ID  HADM_ID  SEQ_NUM ICD9_CODE\n",
       "0    1297         109   172335      1.0     40301\n",
       "1    1298         109   172335      2.0       486\n",
       "2    1299         109   172335      3.0     58281\n",
       "3    1300         109   172335      4.0      5855\n",
       "4    1301         109   172335      5.0      4254"
      ]
     },
     "execution_count": 6,
     "metadata": {},
     "output_type": "execute_result"
    }
   ],
   "source": [
    "diagnoses.head()"
   ]
  },
  {
   "cell_type": "code",
   "execution_count": 7,
   "metadata": {
    "slideshow": {
     "slide_type": "subslide"
    }
   },
   "outputs": [
    {
     "data": {
      "text/html": [
       "<div>\n",
       "<style scoped>\n",
       "    .dataframe tbody tr th:only-of-type {\n",
       "        vertical-align: middle;\n",
       "    }\n",
       "\n",
       "    .dataframe tbody tr th {\n",
       "        vertical-align: top;\n",
       "    }\n",
       "\n",
       "    .dataframe thead th {\n",
       "        text-align: right;\n",
       "    }\n",
       "</style>\n",
       "<table border=\"1\" class=\"dataframe\">\n",
       "  <thead>\n",
       "    <tr style=\"text-align: right;\">\n",
       "      <th></th>\n",
       "      <th>ROW_ID</th>\n",
       "      <th>ICD9_CODE</th>\n",
       "      <th>SHORT_TITLE</th>\n",
       "      <th>LONG_TITLE</th>\n",
       "    </tr>\n",
       "  </thead>\n",
       "  <tbody>\n",
       "    <tr>\n",
       "      <th>0</th>\n",
       "      <td>174</td>\n",
       "      <td>01166</td>\n",
       "      <td>TB pneumonia-oth test</td>\n",
       "      <td>Tuberculous pneumonia [any form], tubercle bac...</td>\n",
       "    </tr>\n",
       "    <tr>\n",
       "      <th>1</th>\n",
       "      <td>175</td>\n",
       "      <td>01170</td>\n",
       "      <td>TB pneumothorax-unspec</td>\n",
       "      <td>Tuberculous pneumothorax, unspecified</td>\n",
       "    </tr>\n",
       "    <tr>\n",
       "      <th>2</th>\n",
       "      <td>176</td>\n",
       "      <td>01171</td>\n",
       "      <td>TB pneumothorax-no exam</td>\n",
       "      <td>Tuberculous pneumothorax, bacteriological or h...</td>\n",
       "    </tr>\n",
       "    <tr>\n",
       "      <th>3</th>\n",
       "      <td>177</td>\n",
       "      <td>01172</td>\n",
       "      <td>TB pneumothorx-exam unkn</td>\n",
       "      <td>Tuberculous pneumothorax, bacteriological or h...</td>\n",
       "    </tr>\n",
       "    <tr>\n",
       "      <th>4</th>\n",
       "      <td>178</td>\n",
       "      <td>01173</td>\n",
       "      <td>TB pneumothorax-micro dx</td>\n",
       "      <td>Tuberculous pneumothorax, tubercle bacilli fou...</td>\n",
       "    </tr>\n",
       "  </tbody>\n",
       "</table>\n",
       "</div>"
      ],
      "text/plain": [
       "   ROW_ID ICD9_CODE               SHORT_TITLE  \\\n",
       "0     174     01166     TB pneumonia-oth test   \n",
       "1     175     01170    TB pneumothorax-unspec   \n",
       "2     176     01171   TB pneumothorax-no exam   \n",
       "3     177     01172  TB pneumothorx-exam unkn   \n",
       "4     178     01173  TB pneumothorax-micro dx   \n",
       "\n",
       "                                          LONG_TITLE  \n",
       "0  Tuberculous pneumonia [any form], tubercle bac...  \n",
       "1              Tuberculous pneumothorax, unspecified  \n",
       "2  Tuberculous pneumothorax, bacteriological or h...  \n",
       "3  Tuberculous pneumothorax, bacteriological or h...  \n",
       "4  Tuberculous pneumothorax, tubercle bacilli fou...  "
      ]
     },
     "execution_count": 7,
     "metadata": {},
     "output_type": "execute_result"
    }
   ],
   "source": [
    "diagnoses_codes.head()"
   ]
  },
  {
   "cell_type": "code",
   "execution_count": 8,
   "metadata": {
    "slideshow": {
     "slide_type": "skip"
    }
   },
   "outputs": [],
   "source": [
    "admissions = admissions[admissions.DEATHTIME.isnull()]\n",
    "adm_pat_pre = pd.merge(left=admissions, right=patients[['SUBJECT_ID', 'DOD']], \n",
    "                               how='left', on='SUBJECT_ID')\n",
    "\n",
    "adm_pat = adm_pat_pre[['SUBJECT_ID','HADM_ID','MARITAL_STATUS', 'INSURANCE', \n",
    "                       'DISCHARGE_LOCATION']]"
   ]
  },
  {
   "cell_type": "code",
   "execution_count": 9,
   "metadata": {
    "slideshow": {
     "slide_type": "skip"
    }
   },
   "outputs": [
    {
     "data": {
      "text/html": [
       "<div>\n",
       "<style scoped>\n",
       "    .dataframe tbody tr th:only-of-type {\n",
       "        vertical-align: middle;\n",
       "    }\n",
       "\n",
       "    .dataframe tbody tr th {\n",
       "        vertical-align: top;\n",
       "    }\n",
       "\n",
       "    .dataframe thead th {\n",
       "        text-align: right;\n",
       "    }\n",
       "</style>\n",
       "<table border=\"1\" class=\"dataframe\">\n",
       "  <thead>\n",
       "    <tr style=\"text-align: right;\">\n",
       "      <th></th>\n",
       "      <th>SUBJECT_ID</th>\n",
       "      <th>HADM_ID</th>\n",
       "      <th>MARITAL_STATUS</th>\n",
       "      <th>INSURANCE</th>\n",
       "      <th>DISCHARGE_LOCATION</th>\n",
       "    </tr>\n",
       "  </thead>\n",
       "  <tbody>\n",
       "    <tr>\n",
       "      <th>0</th>\n",
       "      <td>22</td>\n",
       "      <td>165315</td>\n",
       "      <td>MARRIED</td>\n",
       "      <td>Private</td>\n",
       "      <td>DISC-TRAN CANCER/CHLDRN H</td>\n",
       "    </tr>\n",
       "    <tr>\n",
       "      <th>1</th>\n",
       "      <td>23</td>\n",
       "      <td>152223</td>\n",
       "      <td>MARRIED</td>\n",
       "      <td>Medicare</td>\n",
       "      <td>HOME HEALTH CARE</td>\n",
       "    </tr>\n",
       "    <tr>\n",
       "      <th>2</th>\n",
       "      <td>23</td>\n",
       "      <td>124321</td>\n",
       "      <td>MARRIED</td>\n",
       "      <td>Medicare</td>\n",
       "      <td>HOME HEALTH CARE</td>\n",
       "    </tr>\n",
       "    <tr>\n",
       "      <th>3</th>\n",
       "      <td>24</td>\n",
       "      <td>161859</td>\n",
       "      <td>SINGLE</td>\n",
       "      <td>Private</td>\n",
       "      <td>HOME</td>\n",
       "    </tr>\n",
       "    <tr>\n",
       "      <th>4</th>\n",
       "      <td>25</td>\n",
       "      <td>129635</td>\n",
       "      <td>MARRIED</td>\n",
       "      <td>Private</td>\n",
       "      <td>HOME</td>\n",
       "    </tr>\n",
       "  </tbody>\n",
       "</table>\n",
       "</div>"
      ],
      "text/plain": [
       "   SUBJECT_ID  HADM_ID MARITAL_STATUS INSURANCE         DISCHARGE_LOCATION\n",
       "0          22   165315        MARRIED   Private  DISC-TRAN CANCER/CHLDRN H\n",
       "1          23   152223        MARRIED  Medicare           HOME HEALTH CARE\n",
       "2          23   124321        MARRIED  Medicare           HOME HEALTH CARE\n",
       "3          24   161859         SINGLE   Private                       HOME\n",
       "4          25   129635        MARRIED   Private                       HOME"
      ]
     },
     "execution_count": 9,
     "metadata": {},
     "output_type": "execute_result"
    }
   ],
   "source": [
    "adm_pat.head()"
   ]
  },
  {
   "cell_type": "markdown",
   "metadata": {
    "slideshow": {
     "slide_type": "notes"
    }
   },
   "source": [
    "Next, the Procedures table was looked at, since this contains all of the in-house treatment that a patient received at the hospital. Using this data, the effectiveness of a treatment plan was obtained, which can be used to see if the plan for a certain diagnosis was able to prevent death within one year. The total amount of procedures was also calculated, based on the highest sequence number for each treatment plan. This was then merged into the table generated earlier, and NaN values were removed."
   ]
  },
  {
   "cell_type": "code",
   "execution_count": 10,
   "metadata": {
    "slideshow": {
     "slide_type": "skip"
    }
   },
   "outputs": [],
   "source": [
    "proc = pd.merge(left=procedures, right=procedures_codes[['ICD9_CODE', 'SHORT_TITLE']], \n",
    "                               how='left', on='ICD9_CODE')\n",
    "adm_pat_proc = pd.merge(left=adm_pat, right=proc[['HADM_ID','SEQ_NUM', 'ICD9_CODE', 'SHORT_TITLE']], \n",
    "                        how='left', on='HADM_ID')\n",
    "adm_pat_proc = adm_pat_proc.rename(columns={'SEQ_NUM': 'SEQ_NUM_PROC', 'ICD9_CODE': 'ICD9_CODE_PROC',\n",
    "                            'SHORT_TITLE': 'PROC_NAME'})\n",
    "adm_pat_proc = adm_pat_proc.nlargest(len(adm_pat_proc), 'SEQ_NUM_PROC').drop_duplicates(['HADM_ID'])\n",
    "adm_pat_proc = adm_pat_proc.dropna(how='any')"
   ]
  },
  {
   "cell_type": "code",
   "execution_count": 11,
   "metadata": {
    "slideshow": {
     "slide_type": "skip"
    }
   },
   "outputs": [
    {
     "data": {
      "text/html": [
       "<div>\n",
       "<style scoped>\n",
       "    .dataframe tbody tr th:only-of-type {\n",
       "        vertical-align: middle;\n",
       "    }\n",
       "\n",
       "    .dataframe tbody tr th {\n",
       "        vertical-align: top;\n",
       "    }\n",
       "\n",
       "    .dataframe thead th {\n",
       "        text-align: right;\n",
       "    }\n",
       "</style>\n",
       "<table border=\"1\" class=\"dataframe\">\n",
       "  <thead>\n",
       "    <tr style=\"text-align: right;\">\n",
       "      <th></th>\n",
       "      <th>SUBJECT_ID</th>\n",
       "      <th>HADM_ID</th>\n",
       "      <th>MARITAL_STATUS</th>\n",
       "      <th>INSURANCE</th>\n",
       "      <th>DISCHARGE_LOCATION</th>\n",
       "      <th>SEQ_NUM_PROC</th>\n",
       "      <th>ICD9_CODE_PROC</th>\n",
       "      <th>PROC_NAME</th>\n",
       "    </tr>\n",
       "  </thead>\n",
       "  <tbody>\n",
       "    <tr>\n",
       "      <th>119399</th>\n",
       "      <td>24810</td>\n",
       "      <td>143994</td>\n",
       "      <td>MARRIED</td>\n",
       "      <td>Private</td>\n",
       "      <td>HOME HEALTH CARE</td>\n",
       "      <td>40.0</td>\n",
       "      <td>9729.0</td>\n",
       "      <td>Non-op replacement NEC</td>\n",
       "    </tr>\n",
       "    <tr>\n",
       "      <th>163373</th>\n",
       "      <td>57764</td>\n",
       "      <td>103584</td>\n",
       "      <td>SINGLE</td>\n",
       "      <td>Medicaid</td>\n",
       "      <td>HOME</td>\n",
       "      <td>40.0</td>\n",
       "      <td>3893.0</td>\n",
       "      <td>Venous cath NEC</td>\n",
       "    </tr>\n",
       "    <tr>\n",
       "      <th>123945</th>\n",
       "      <td>29467</td>\n",
       "      <td>194819</td>\n",
       "      <td>MARRIED</td>\n",
       "      <td>Private</td>\n",
       "      <td>REHAB/DISTINCT PART HOSP</td>\n",
       "      <td>40.0</td>\n",
       "      <td>9359.0</td>\n",
       "      <td>Immobiliz/wound attn NEC</td>\n",
       "    </tr>\n",
       "    <tr>\n",
       "      <th>179993</th>\n",
       "      <td>62795</td>\n",
       "      <td>173748</td>\n",
       "      <td>MARRIED</td>\n",
       "      <td>Medicaid</td>\n",
       "      <td>LONG TERM CARE HOSPITAL</td>\n",
       "      <td>40.0</td>\n",
       "      <td>3893.0</td>\n",
       "      <td>Venous cath NEC</td>\n",
       "    </tr>\n",
       "    <tr>\n",
       "      <th>138602</th>\n",
       "      <td>27755</td>\n",
       "      <td>155889</td>\n",
       "      <td>SINGLE</td>\n",
       "      <td>Medicaid</td>\n",
       "      <td>REHAB/DISTINCT PART HOSP</td>\n",
       "      <td>38.0</td>\n",
       "      <td>9672.0</td>\n",
       "      <td>Cont inv mec ven 96+ hrs</td>\n",
       "    </tr>\n",
       "  </tbody>\n",
       "</table>\n",
       "</div>"
      ],
      "text/plain": [
       "        SUBJECT_ID  HADM_ID MARITAL_STATUS INSURANCE  \\\n",
       "119399       24810   143994        MARRIED   Private   \n",
       "163373       57764   103584         SINGLE  Medicaid   \n",
       "123945       29467   194819        MARRIED   Private   \n",
       "179993       62795   173748        MARRIED  Medicaid   \n",
       "138602       27755   155889         SINGLE  Medicaid   \n",
       "\n",
       "              DISCHARGE_LOCATION  SEQ_NUM_PROC  ICD9_CODE_PROC  \\\n",
       "119399          HOME HEALTH CARE          40.0          9729.0   \n",
       "163373                      HOME          40.0          3893.0   \n",
       "123945  REHAB/DISTINCT PART HOSP          40.0          9359.0   \n",
       "179993   LONG TERM CARE HOSPITAL          40.0          3893.0   \n",
       "138602  REHAB/DISTINCT PART HOSP          38.0          9672.0   \n",
       "\n",
       "                       PROC_NAME  \n",
       "119399    Non-op replacement NEC  \n",
       "163373           Venous cath NEC  \n",
       "123945  Immobiliz/wound attn NEC  \n",
       "179993           Venous cath NEC  \n",
       "138602  Cont inv mec ven 96+ hrs  "
      ]
     },
     "execution_count": 11,
     "metadata": {},
     "output_type": "execute_result"
    }
   ],
   "source": [
    "adm_pat_proc.head()"
   ]
  },
  {
   "cell_type": "markdown",
   "metadata": {
    "slideshow": {
     "slide_type": "notes"
    }
   },
   "source": [
    "Finally, the Diagnoses table was looked at, to match the above procedures with a given treatment. Therefore, procedures can be mapped to diagnoses, to see what was and was not effective for a certain condition. Like before, this was merged into the table from earlier. To better match convention, the ICD-9 codes were truncated to be three digits."
   ]
  },
  {
   "cell_type": "code",
   "execution_count": 12,
   "metadata": {
    "slideshow": {
     "slide_type": "skip"
    }
   },
   "outputs": [],
   "source": [
    "diag = pd.merge(left=diagnoses, right=diagnoses_codes[['ICD9_CODE', 'SHORT_TITLE']], \n",
    "                               how='left', on='ICD9_CODE')\n",
    "my_df = pd.merge(left=adm_pat_proc, right=diag[['HADM_ID','SEQ_NUM', 'ICD9_CODE', 'SHORT_TITLE']], \n",
    "                        how='left', on='HADM_ID')\n",
    "my_df.rename(columns={'SEQ_NUM': 'SEQ_NUM_DIAG', 'ICD9_CODE': 'ICD9_CODE_DIAG',\n",
    "                     'SHORT_TITLE': 'DIAG_NAME'}, inplace=True)\n",
    "\n",
    "my_df['ICD9_CODE_DIAG'] = my_df['ICD9_CODE_DIAG'].astype(str)\n",
    "\n",
    "for i in my_df['ICD9_CODE_DIAG'].index:\n",
    "    peel = my_df.at[i, 'ICD9_CODE_DIAG']\n",
    "    if peel[0].isalpha() and peel[0] != \"n\":\n",
    "        my_df.at[i, 'ICD9_CODE_DIAG'] = peel[1:4]\n",
    "    else:\n",
    "        my_df.at[i, 'ICD9_CODE_DIAG'] = peel[0:3]\n",
    "\n",
    "my_df['ICD9_CODE_DIAG'] = my_df['ICD9_CODE_DIAG'].replace('nan', np.nan)\n",
    "my_df.dropna(how='any', inplace=True)\n",
    "my_df['ICD9_CODE_DIAG'] = my_df['ICD9_CODE_DIAG'].astype(int)"
   ]
  },
  {
   "cell_type": "code",
   "execution_count": 13,
   "metadata": {
    "slideshow": {
     "slide_type": "skip"
    }
   },
   "outputs": [
    {
     "data": {
      "text/html": [
       "<div>\n",
       "<style scoped>\n",
       "    .dataframe tbody tr th:only-of-type {\n",
       "        vertical-align: middle;\n",
       "    }\n",
       "\n",
       "    .dataframe tbody tr th {\n",
       "        vertical-align: top;\n",
       "    }\n",
       "\n",
       "    .dataframe thead th {\n",
       "        text-align: right;\n",
       "    }\n",
       "</style>\n",
       "<table border=\"1\" class=\"dataframe\">\n",
       "  <thead>\n",
       "    <tr style=\"text-align: right;\">\n",
       "      <th></th>\n",
       "      <th>SUBJECT_ID</th>\n",
       "      <th>HADM_ID</th>\n",
       "      <th>MARITAL_STATUS</th>\n",
       "      <th>INSURANCE</th>\n",
       "      <th>DISCHARGE_LOCATION</th>\n",
       "      <th>SEQ_NUM_PROC</th>\n",
       "      <th>ICD9_CODE_PROC</th>\n",
       "      <th>PROC_NAME</th>\n",
       "      <th>SEQ_NUM_DIAG</th>\n",
       "      <th>ICD9_CODE_DIAG</th>\n",
       "      <th>DIAG_NAME</th>\n",
       "    </tr>\n",
       "  </thead>\n",
       "  <tbody>\n",
       "    <tr>\n",
       "      <th>0</th>\n",
       "      <td>24810</td>\n",
       "      <td>143994</td>\n",
       "      <td>MARRIED</td>\n",
       "      <td>Private</td>\n",
       "      <td>HOME HEALTH CARE</td>\n",
       "      <td>40.0</td>\n",
       "      <td>9729.0</td>\n",
       "      <td>Non-op replacement NEC</td>\n",
       "      <td>1.0</td>\n",
       "      <td>533</td>\n",
       "      <td>Ac peptic ulc w perf-obs</td>\n",
       "    </tr>\n",
       "    <tr>\n",
       "      <th>1</th>\n",
       "      <td>24810</td>\n",
       "      <td>143994</td>\n",
       "      <td>MARRIED</td>\n",
       "      <td>Private</td>\n",
       "      <td>HOME HEALTH CARE</td>\n",
       "      <td>40.0</td>\n",
       "      <td>9729.0</td>\n",
       "      <td>Non-op replacement NEC</td>\n",
       "      <td>2.0</td>\n",
       "      <td>995</td>\n",
       "      <td>SIRS, NOS</td>\n",
       "    </tr>\n",
       "    <tr>\n",
       "      <th>2</th>\n",
       "      <td>24810</td>\n",
       "      <td>143994</td>\n",
       "      <td>MARRIED</td>\n",
       "      <td>Private</td>\n",
       "      <td>HOME HEALTH CARE</td>\n",
       "      <td>40.0</td>\n",
       "      <td>9729.0</td>\n",
       "      <td>Non-op replacement NEC</td>\n",
       "      <td>3.0</td>\n",
       "      <td>567</td>\n",
       "      <td>Peritonitis NOS</td>\n",
       "    </tr>\n",
       "    <tr>\n",
       "      <th>3</th>\n",
       "      <td>24810</td>\n",
       "      <td>143994</td>\n",
       "      <td>MARRIED</td>\n",
       "      <td>Private</td>\n",
       "      <td>HOME HEALTH CARE</td>\n",
       "      <td>40.0</td>\n",
       "      <td>9729.0</td>\n",
       "      <td>Non-op replacement NEC</td>\n",
       "      <td>4.0</td>\n",
       "      <td>452</td>\n",
       "      <td>Portal vein thrombosis</td>\n",
       "    </tr>\n",
       "    <tr>\n",
       "      <th>4</th>\n",
       "      <td>24810</td>\n",
       "      <td>143994</td>\n",
       "      <td>MARRIED</td>\n",
       "      <td>Private</td>\n",
       "      <td>HOME HEALTH CARE</td>\n",
       "      <td>40.0</td>\n",
       "      <td>9729.0</td>\n",
       "      <td>Non-op replacement NEC</td>\n",
       "      <td>5.0</td>\n",
       "      <td>567</td>\n",
       "      <td>Retroperiton abscess NEC</td>\n",
       "    </tr>\n",
       "  </tbody>\n",
       "</table>\n",
       "</div>"
      ],
      "text/plain": [
       "   SUBJECT_ID  HADM_ID MARITAL_STATUS INSURANCE DISCHARGE_LOCATION  \\\n",
       "0       24810   143994        MARRIED   Private   HOME HEALTH CARE   \n",
       "1       24810   143994        MARRIED   Private   HOME HEALTH CARE   \n",
       "2       24810   143994        MARRIED   Private   HOME HEALTH CARE   \n",
       "3       24810   143994        MARRIED   Private   HOME HEALTH CARE   \n",
       "4       24810   143994        MARRIED   Private   HOME HEALTH CARE   \n",
       "\n",
       "   SEQ_NUM_PROC  ICD9_CODE_PROC               PROC_NAME  SEQ_NUM_DIAG  \\\n",
       "0          40.0          9729.0  Non-op replacement NEC           1.0   \n",
       "1          40.0          9729.0  Non-op replacement NEC           2.0   \n",
       "2          40.0          9729.0  Non-op replacement NEC           3.0   \n",
       "3          40.0          9729.0  Non-op replacement NEC           4.0   \n",
       "4          40.0          9729.0  Non-op replacement NEC           5.0   \n",
       "\n",
       "   ICD9_CODE_DIAG                 DIAG_NAME  \n",
       "0             533  Ac peptic ulc w perf-obs  \n",
       "1             995                 SIRS, NOS  \n",
       "2             567           Peritonitis NOS  \n",
       "3             452    Portal vein thrombosis  \n",
       "4             567  Retroperiton abscess NEC  "
      ]
     },
     "execution_count": 13,
     "metadata": {},
     "output_type": "execute_result"
    }
   ],
   "source": [
    "my_df.head()"
   ]
  },
  {
   "cell_type": "markdown",
   "metadata": {
    "slideshow": {
     "slide_type": "notes"
    }
   },
   "source": [
    "Now that all the relevant data was obtained in the right format, the *DOD* and *DISCHTIME* columns were compared to obtain an index of 1/0, referring to whether or not that patient died within a year. Any NaN values indicate that someone is still alive, so those were replaced with 0s."
   ]
  },
  {
   "cell_type": "code",
   "execution_count": 14,
   "metadata": {
    "slideshow": {
     "slide_type": "skip"
    }
   },
   "outputs": [],
   "source": [
    "adm_pat_pre[['DISCHTIME','DOD']] = adm_pat_pre[['DISCHTIME','DOD']].apply(pd.to_datetime)\n",
    "my_df['lt_mortality'] = ((adm_pat_pre['DOD'] - adm_pat_pre['DISCHTIME']).dt.days <= 365).astype(int)\n",
    "my_df = my_df.fillna(0)"
   ]
  },
  {
   "cell_type": "markdown",
   "metadata": {
    "slideshow": {
     "slide_type": "slide"
    }
   },
   "source": [
    "## Important Information\n",
    "- Marital status\n",
    "- Insurance\n",
    "- Discharge location\n",
    "- Diagnoses\n",
    "- Number of procedures performed"
   ]
  },
  {
   "cell_type": "code",
   "execution_count": 15,
   "metadata": {
    "slideshow": {
     "slide_type": "subslide"
    }
   },
   "outputs": [
    {
     "data": {
      "text/html": [
       "<div>\n",
       "<style scoped>\n",
       "    .dataframe tbody tr th:only-of-type {\n",
       "        vertical-align: middle;\n",
       "    }\n",
       "\n",
       "    .dataframe tbody tr th {\n",
       "        vertical-align: top;\n",
       "    }\n",
       "\n",
       "    .dataframe thead th {\n",
       "        text-align: right;\n",
       "    }\n",
       "</style>\n",
       "<table border=\"1\" class=\"dataframe\">\n",
       "  <thead>\n",
       "    <tr style=\"text-align: right;\">\n",
       "      <th></th>\n",
       "      <th>SUBJECT_ID</th>\n",
       "      <th>HADM_ID</th>\n",
       "      <th>MARITAL_STATUS</th>\n",
       "      <th>INSURANCE</th>\n",
       "      <th>DISCHARGE_LOCATION</th>\n",
       "      <th>SEQ_NUM_PROC</th>\n",
       "      <th>ICD9_CODE_PROC</th>\n",
       "      <th>PROC_NAME</th>\n",
       "      <th>SEQ_NUM_DIAG</th>\n",
       "      <th>ICD9_CODE_DIAG</th>\n",
       "      <th>DIAG_NAME</th>\n",
       "      <th>lt_mortality</th>\n",
       "    </tr>\n",
       "  </thead>\n",
       "  <tbody>\n",
       "    <tr>\n",
       "      <th>0</th>\n",
       "      <td>24810</td>\n",
       "      <td>143994</td>\n",
       "      <td>MARRIED</td>\n",
       "      <td>Private</td>\n",
       "      <td>HOME HEALTH CARE</td>\n",
       "      <td>40.0</td>\n",
       "      <td>9729.0</td>\n",
       "      <td>Non-op replacement NEC</td>\n",
       "      <td>1.0</td>\n",
       "      <td>533</td>\n",
       "      <td>Ac peptic ulc w perf-obs</td>\n",
       "      <td>0.0</td>\n",
       "    </tr>\n",
       "    <tr>\n",
       "      <th>1</th>\n",
       "      <td>24810</td>\n",
       "      <td>143994</td>\n",
       "      <td>MARRIED</td>\n",
       "      <td>Private</td>\n",
       "      <td>HOME HEALTH CARE</td>\n",
       "      <td>40.0</td>\n",
       "      <td>9729.0</td>\n",
       "      <td>Non-op replacement NEC</td>\n",
       "      <td>2.0</td>\n",
       "      <td>995</td>\n",
       "      <td>SIRS, NOS</td>\n",
       "      <td>0.0</td>\n",
       "    </tr>\n",
       "    <tr>\n",
       "      <th>2</th>\n",
       "      <td>24810</td>\n",
       "      <td>143994</td>\n",
       "      <td>MARRIED</td>\n",
       "      <td>Private</td>\n",
       "      <td>HOME HEALTH CARE</td>\n",
       "      <td>40.0</td>\n",
       "      <td>9729.0</td>\n",
       "      <td>Non-op replacement NEC</td>\n",
       "      <td>3.0</td>\n",
       "      <td>567</td>\n",
       "      <td>Peritonitis NOS</td>\n",
       "      <td>0.0</td>\n",
       "    </tr>\n",
       "    <tr>\n",
       "      <th>3</th>\n",
       "      <td>24810</td>\n",
       "      <td>143994</td>\n",
       "      <td>MARRIED</td>\n",
       "      <td>Private</td>\n",
       "      <td>HOME HEALTH CARE</td>\n",
       "      <td>40.0</td>\n",
       "      <td>9729.0</td>\n",
       "      <td>Non-op replacement NEC</td>\n",
       "      <td>4.0</td>\n",
       "      <td>452</td>\n",
       "      <td>Portal vein thrombosis</td>\n",
       "      <td>0.0</td>\n",
       "    </tr>\n",
       "    <tr>\n",
       "      <th>4</th>\n",
       "      <td>24810</td>\n",
       "      <td>143994</td>\n",
       "      <td>MARRIED</td>\n",
       "      <td>Private</td>\n",
       "      <td>HOME HEALTH CARE</td>\n",
       "      <td>40.0</td>\n",
       "      <td>9729.0</td>\n",
       "      <td>Non-op replacement NEC</td>\n",
       "      <td>5.0</td>\n",
       "      <td>567</td>\n",
       "      <td>Retroperiton abscess NEC</td>\n",
       "      <td>0.0</td>\n",
       "    </tr>\n",
       "  </tbody>\n",
       "</table>\n",
       "</div>"
      ],
      "text/plain": [
       "   SUBJECT_ID  HADM_ID MARITAL_STATUS INSURANCE DISCHARGE_LOCATION  \\\n",
       "0       24810   143994        MARRIED   Private   HOME HEALTH CARE   \n",
       "1       24810   143994        MARRIED   Private   HOME HEALTH CARE   \n",
       "2       24810   143994        MARRIED   Private   HOME HEALTH CARE   \n",
       "3       24810   143994        MARRIED   Private   HOME HEALTH CARE   \n",
       "4       24810   143994        MARRIED   Private   HOME HEALTH CARE   \n",
       "\n",
       "   SEQ_NUM_PROC  ICD9_CODE_PROC               PROC_NAME  SEQ_NUM_DIAG  \\\n",
       "0          40.0          9729.0  Non-op replacement NEC           1.0   \n",
       "1          40.0          9729.0  Non-op replacement NEC           2.0   \n",
       "2          40.0          9729.0  Non-op replacement NEC           3.0   \n",
       "3          40.0          9729.0  Non-op replacement NEC           4.0   \n",
       "4          40.0          9729.0  Non-op replacement NEC           5.0   \n",
       "\n",
       "   ICD9_CODE_DIAG                 DIAG_NAME  lt_mortality  \n",
       "0             533  Ac peptic ulc w perf-obs           0.0  \n",
       "1             995                 SIRS, NOS           0.0  \n",
       "2             567           Peritonitis NOS           0.0  \n",
       "3             452    Portal vein thrombosis           0.0  \n",
       "4             567  Retroperiton abscess NEC           0.0  "
      ]
     },
     "execution_count": 15,
     "metadata": {},
     "output_type": "execute_result"
    }
   ],
   "source": [
    "my_df.head()"
   ]
  },
  {
   "cell_type": "markdown",
   "metadata": {
    "slideshow": {
     "slide_type": "slide"
    }
   },
   "source": [
    "## Data Analysis"
   ]
  },
  {
   "cell_type": "markdown",
   "metadata": {
    "slideshow": {
     "slide_type": "slide"
    }
   },
   "source": [
    "### Marital Status\n",
    "Does having someone on hand affect the quality of and speed at which you can receive care?"
   ]
  },
  {
   "cell_type": "code",
   "execution_count": 16,
   "metadata": {
    "slideshow": {
     "slide_type": "subslide"
    }
   },
   "outputs": [
    {
     "data": {
      "text/plain": [
       "MARRIED              215746\n",
       "SINGLE               117161\n",
       "WIDOWED               66969\n",
       "DIVORCED              31554\n",
       "SEPARATED              5168\n",
       "UNKNOWN (DEFAULT)      2575\n",
       "LIFE PARTNER            195\n",
       "Name: MARITAL_STATUS, dtype: int64"
      ]
     },
     "execution_count": 16,
     "metadata": {},
     "output_type": "execute_result"
    }
   ],
   "source": [
    "my_df['MARITAL_STATUS'].value_counts()"
   ]
  },
  {
   "cell_type": "code",
   "execution_count": 17,
   "metadata": {
    "slideshow": {
     "slide_type": "subslide"
    }
   },
   "outputs": [
    {
     "data": {
      "text/plain": [
       "0    223427\n",
       "1    215941\n",
       "Name: married, dtype: int64"
      ]
     },
     "execution_count": 17,
     "metadata": {},
     "output_type": "execute_result"
    }
   ],
   "source": [
    "mar_1 = (my_df['MARITAL_STATUS'] == 'MARRIED').astype(int)\n",
    "mar_2 = (my_df['MARITAL_STATUS'] == 'LIFE PARTNER').astype(int)\n",
    "my_df['married'] = mar_1 + mar_2\n",
    "my_df['married'].value_counts()"
   ]
  },
  {
   "cell_type": "markdown",
   "metadata": {
    "slideshow": {
     "slide_type": "skip"
    }
   },
   "source": [
    "From this, we can see that 2415,941 patients were married, while conversely, 223,427 patients were single. This does, however, assume that anyone who is not married lives by themselves, which may not be true in the case of parents, roommates, children, etc."
   ]
  },
  {
   "cell_type": "markdown",
   "metadata": {
    "slideshow": {
     "slide_type": "slide"
    }
   },
   "source": [
    "### Insurance\n",
    "Does your ability to pay for and access healthcare affect what is prescribed to you in the long run?"
   ]
  },
  {
   "cell_type": "code",
   "execution_count": 18,
   "metadata": {
    "slideshow": {
     "slide_type": "subslide"
    }
   },
   "outputs": [
    {
     "data": {
      "text/plain": [
       "Medicare      261447\n",
       "Private       125710\n",
       "Medicaid       39360\n",
       "Government     10441\n",
       "Self Pay        2410\n",
       "Name: INSURANCE, dtype: int64"
      ]
     },
     "execution_count": 18,
     "metadata": {},
     "output_type": "execute_result"
    }
   ],
   "source": [
    "my_df['INSURANCE'].value_counts()"
   ]
  },
  {
   "cell_type": "code",
   "execution_count": 19,
   "metadata": {
    "slideshow": {
     "slide_type": "subslide"
    }
   },
   "outputs": [
    {
     "data": {
      "text/plain": [
       "0    311248\n",
       "1    128120\n",
       "Name: own insurance, dtype: int64"
      ]
     },
     "execution_count": 19,
     "metadata": {},
     "output_type": "execute_result"
    }
   ],
   "source": [
    "in_1 = (my_df['INSURANCE'] == 'Private').astype(int)\n",
    "in_2 = (my_df['INSURANCE'] == 'Self Pay').astype(int)\n",
    "my_df['own insurance'] = in_1 + in_2\n",
    "my_df['own insurance'].value_counts()"
   ]
  },
  {
   "cell_type": "markdown",
   "metadata": {
    "slideshow": {
     "slide_type": "skip"
    }
   },
   "source": [
    "From this, we see that 128,120 patients access to private healthcare, while 311,248 patients relied on government aid to pay for their medical bills."
   ]
  },
  {
   "cell_type": "markdown",
   "metadata": {
    "slideshow": {
     "slide_type": "slide"
    }
   },
   "source": [
    "### Discharge Location\n",
    "Does the location you go to after you leave the hospital affect continuity of care?"
   ]
  },
  {
   "cell_type": "code",
   "execution_count": 20,
   "metadata": {
    "slideshow": {
     "slide_type": "subslide"
    }
   },
   "outputs": [
    {
     "data": {
      "text/plain": [
       "HOME HEALTH CARE             122205\n",
       "HOME                          92782\n",
       "SNF                           91411\n",
       "REHAB/DISTINCT PART HOSP      71010\n",
       "LONG TERM CARE HOSPITAL       39414\n",
       "SHORT TERM HOSPITAL            5078\n",
       "HOSPICE-HOME                   4659\n",
       "DISC-TRAN CANCER/CHLDRN H      3834\n",
       "DISCH-TRAN TO PSYCH HOSP       3247\n",
       "LEFT AGAINST MEDICAL ADVI      2125\n",
       "HOSPICE-MEDICAL FACILITY       1772\n",
       "OTHER FACILITY                  704\n",
       "ICF                             495\n",
       "HOME WITH HOME IV PROVIDR       493\n",
       "DISC-TRAN TO FEDERAL HC         125\n",
       "SNF-MEDICAID ONLY CERTIF         14\n",
       "Name: DISCHARGE_LOCATION, dtype: int64"
      ]
     },
     "execution_count": 20,
     "metadata": {},
     "output_type": "execute_result"
    }
   ],
   "source": [
    "my_df['DISCHARGE_LOCATION'].value_counts()"
   ]
  },
  {
   "cell_type": "code",
   "execution_count": 21,
   "metadata": {
    "slideshow": {
     "slide_type": "subslide"
    }
   },
   "outputs": [
    {
     "data": {
      "text/plain": [
       "0    224381\n",
       "1    214987\n",
       "Name: sent home, dtype: int64"
      ]
     },
     "execution_count": 21,
     "metadata": {},
     "output_type": "execute_result"
    }
   ],
   "source": [
    "no_home_1 = (my_df['DISCHARGE_LOCATION'] == 'HOME HEALTH CARE').astype(int)\n",
    "no_home_2 = (my_df['DISCHARGE_LOCATION'] == 'HOME').astype(int)\n",
    "my_df['sent home'] = no_home_1 + no_home_2\n",
    "my_df['sent home'].value_counts()"
   ]
  },
  {
   "cell_type": "markdown",
   "metadata": {
    "slideshow": {
     "slide_type": "skip"
    }
   },
   "source": [
    "From this, we see that 214,987 patients were sent directly home without a medical professional, and 224,381 patients were given a longer term treatment plan."
   ]
  },
  {
   "cell_type": "markdown",
   "metadata": {
    "slideshow": {
     "slide_type": "slide"
    }
   },
   "source": [
    "### Diagnoses\n",
    "Diagnoses are often coded with ICD-9 convention, in the following manner:\n",
    "- 001-139\tInfectious And Parasitic Diseases\n",
    "- 140-239\tNeoplasms\n",
    "- 240-279\tEndocrine, Nutritional And Metabolic Diseases, And Immunity Disorders\n",
    "- 280-289\tDiseases Of The Blood And Blood-Forming Organs\n",
    "- 290-319\tMental Disorders\n",
    "- 320-389\tDiseases Of The Nervous System And Sense Organs\n",
    "- 390-459\tDiseases Of The Circulatory System\n",
    "- 460-519\tDiseases Of The Respiratory System\n",
    "- 520-579\tDiseases Of The Digestive System\n",
    "- 580-629\tDiseases Of The Genitourinary System\n",
    "- 630-679\tComplications Of Pregnancy, Childbirth, And The Puerperium\n",
    "- 680-709\tDiseases Of The Skin And Subcutaneous Tissue\n",
    "- 710-739\tDiseases Of The Musculoskeletal System And Connective Tissue\n",
    "- 740-759\tCongenital Anomalies\n",
    "- 760-779\tCertain Conditions Originating In The Perinatal Period\n",
    "- 780-799\tSymptoms, Signs, And Ill-Defined Conditions\n",
    "- 800-999\tInjury And Poisoning\n",
    "\n",
    "These codes can be used to group and visualize the diagnoses within the dataset, in addition to the deaths related to that bucket."
   ]
  },
  {
   "cell_type": "code",
   "execution_count": 22,
   "metadata": {
    "slideshow": {
     "slide_type": "subslide"
    }
   },
   "outputs": [
    {
     "data": {
      "image/png": "[encoded data removed]",
      "text/plain": [
       "<Figure size 1152x576 with 1 Axes>"
      ]
     },
     "metadata": {
      "needs_background": "light"
     },
     "output_type": "display_data"
    }
   ],
   "source": [
    "diag_bins = [139, 239, 279, 289, 319, 389, 459, 519, 579, 629, 679, 709, 739, 759, 779, 799, 999]\n",
    "\n",
    "sns.set_context('talk')\n",
    "f, ax = plt.subplots(figsize = (16,8))\n",
    "sns.set_color_codes('muted')\n",
    "sns.distplot(my_df.loc[my_df['lt_mortality'] == 1, 'ICD9_CODE_DIAG'], bins=diag_bins, \n",
    "             color='r', kde=False, axlabel=\"Diagnosis Code\", hist_kws=dict(edgecolor=\"black\", linewidth=2))\n",
    "sns.set_color_codes('muted')\n",
    "sns.distplot(my_df['ICD9_CODE_DIAG'], bins=diag_bins, kde=False, color='r', \n",
    "             hist_kws=dict(edgecolor=\"black\", linewidth=2))\n",
    "\n",
    "count = 0\n",
    "death_array = [];\n",
    "for p in ax.patches:\n",
    "    _x = p.get_x() + p.get_width() / 2\n",
    "    _y = p.get_y() + p.get_height()\n",
    "    value = '{:}'.format(p.get_height())\n",
    "    if count <= 15:\n",
    "        death_array.append(value)\n",
    "    else:\n",
    "        value = 100 * float(death_array[count - 16]) / float(value)\n",
    "        value = round(value, 1)\n",
    "        ax.text(_x, _y, value, ha=\"center\")\n",
    "    count += 1\n"
   ]
  },
  {
   "cell_type": "markdown",
   "metadata": {
    "slideshow": {
     "slide_type": "notes"
    }
   },
   "source": [
    "From this, we see that the most common bin is 390-459 - Diseases Of The Circulatory System, followed by 240-279\t- Endocrine, Nutritional And Metabolic Diseases, And Immunity Disorders and and 800-999 - Injury And Poisoning. If these are the most common, then physicians could prioritorize improving long term treatments in those areas, potentially improving overall population health. Most of the death percentages are below 2 percent, with 460-519 - Diseases Of The Respiratory System, 520-579 - Diseases Of The Digestive System, 680-709 - Diseases Of The Skin And Subcutaneous Tissue, and 800-999 - Injury And Poisoning being above 2 percent. Because Injury and Poisoning has the highest mortality rate, and is one of the most common categories, it can be an area of focus."
   ]
  },
  {
   "cell_type": "markdown",
   "metadata": {
    "slideshow": {
     "slide_type": "skip"
    }
   },
   "source": [
    "#### Holistic\n",
    "Violin plots can be used to show the distribution of data. The widths of the two sides of the plot show the frequency of mortality - the wider the plot, the more amount of deaths there were/were not. On the vertical axis, this can be lined up to different diagnoses. On the horizontal axis, we can see if marital status, having private insurance, or being sent home had any drastic differences on the outcome."
   ]
  },
  {
   "cell_type": "code",
   "execution_count": 23,
   "metadata": {
    "slideshow": {
     "slide_type": "subslide"
    }
   },
   "outputs": [
    {
     "data": {
      "text/plain": [
       "<matplotlib.axes._subplots.AxesSubplot at 0x12d231690>"
      ]
     },
     "execution_count": 23,
     "metadata": {},
     "output_type": "execute_result"
    },
    {
     "data": {
      "image/png": "[encoded data removed]",
      "text/plain": [
       "<Figure size 864x1008 with 3 Axes>"
      ]
     },
     "metadata": {
      "needs_background": "light"
     },
     "output_type": "display_data"
    }
   ],
   "source": [
    "sns.set_context('talk')\n",
    "f, ax = plt.subplots(3, 1, figsize = (12,14))\n",
    "sns.violinplot(x=\"married\", y=\"ICD9_CODE_DIAG\", hue=\"lt_mortality\",\n",
    "                    data=my_df, palette=\"Set2\", split=\"True\", ax = ax[0])\n",
    "sns.violinplot(x=\"own insurance\", y=\"ICD9_CODE_DIAG\", hue=\"lt_mortality\",\n",
    "                    data=my_df, palette=\"Set2\", split=\"True\", ax = ax[1])\n",
    "sns.violinplot(x=\"sent home\", y=\"ICD9_CODE_DIAG\", hue=\"lt_mortality\",\n",
    "                    data=my_df, palette=\"Set2\", split=\"True\", ax = ax[2])"
   ]
  },
  {
   "cell_type": "markdown",
   "metadata": {
    "slideshow": {
     "slide_type": "skip"
    }
   },
   "source": [
    "By comparing the areas of the violin plots, the effect that each of the three aformentioned binary factors had on long term mortality can be observed. Relatively speaking, it seems that the mortality rate is higher for patients who were not sent back to their home, own private insuranced, and were not married, in order of decreasing weight."
   ]
  },
  {
   "cell_type": "markdown",
   "metadata": {
    "slideshow": {
     "slide_type": "slide"
    }
   },
   "source": [
    "### Procedures\n",
    "Procedures also follow a similar coding convention to diagnoses. What may be more interesting, however, is the amount of procedures that a patient undergoes, and seeing if there is a correlation between this and the long term mortality rate."
   ]
  },
  {
   "cell_type": "code",
   "execution_count": 24,
   "metadata": {
    "slideshow": {
     "slide_type": "subslide"
    }
   },
   "outputs": [
    {
     "name": "stdout",
     "output_type": "stream",
     "text": [
      "Mean without Death: 5.141268836501831\n",
      "Mean with Death: 14.445309603262885\n"
     ]
    },
    {
     "data": {
      "text/plain": [
       "<matplotlib.legend.Legend at 0x12d887210>"
      ]
     },
     "execution_count": 24,
     "metadata": {},
     "output_type": "execute_result"
    },
    {
     "data": {
      "image/png": "[encoded data removed]",
      "text/plain": [
       "<Figure size 1152x576 with 1 Axes>"
      ]
     },
     "metadata": {
      "needs_background": "light"
     },
     "output_type": "display_data"
    }
   ],
   "source": [
    "proc_bins = np.arange(40)\n",
    "\n",
    "sns.set_context('talk')\n",
    "f, ax = plt.subplots(figsize = (16,8))\n",
    "sns.distplot(my_df.loc[my_df['lt_mortality'] == 0, 'SEQ_NUM_PROC'], bins=proc_bins,\n",
    "             hist_kws=dict(edgecolor=\"black\", linewidth=2), label=\"Survived\")\n",
    "print(f\"Mean without Death: {my_df.loc[my_df['lt_mortality'] == 0, 'SEQ_NUM_PROC'].mean()}\")\n",
    "sns.distplot(my_df.loc[my_df['lt_mortality'] == 1, 'SEQ_NUM_PROC'], bins=proc_bins, color='red',\n",
    "             axlabel = \"Procedure Count\", hist_kws=dict(edgecolor=\"black\", linewidth=2),\n",
    "             label=\"Died\")\n",
    "print(f\"Mean with Death: {my_df.loc[my_df['lt_mortality'] == 1, 'SEQ_NUM_PROC'].mean()}\")\n",
    "\n",
    "ax.legend()"
   ]
  },
  {
   "cell_type": "markdown",
   "metadata": {
    "slideshow": {
     "slide_type": "skip"
    }
   },
   "source": [
    "On average, a patient who lived longer than one year had an average of 5 procedures performed, while a patient who did not live past one year had an average of 14 procedures peformed. It is interesting to note that with a quick visual inspection, no one that died within a year had an less than 10 procedures performed on them."
   ]
  },
  {
   "cell_type": "markdown",
   "metadata": {
    "slideshow": {
     "slide_type": "skip"
    }
   },
   "source": [
    "#### Holistic\n",
    "Just as we looked at the relationship between long term mortality, those three binary factors, and diagnoses, we will also do so with procedure. Since we used procedure count, and there are many less categories, a strip plot, or a categorical scatter plot, can be used to visualize this data. Therefore, we can view the amount of deaths per procedure count, and categorize it by marital status, access to private healthcare, and discharge location."
   ]
  },
  {
   "cell_type": "code",
   "execution_count": 42,
   "metadata": {
    "scrolled": false,
    "slideshow": {
     "slide_type": "subslide"
    }
   },
   "outputs": [
    {
     "data": {
      "image/png": "[encoded data removed]",
      "text/plain": [
       "<Figure size 1296x720 with 3 Axes>"
      ]
     },
     "metadata": {
      "needs_background": "light"
     },
     "output_type": "display_data"
    }
   ],
   "source": [
    "plot_cols = ['lt_mortality', 'SEQ_NUM_PROC', 'dead_married', 'dead_insurance', 'dead_home']\n",
    "plot_df = pd.DataFrame(columns = plot_cols)\n",
    "plot_df[['lt_mortality', 'SEQ_NUM_PROC']] = my_df[['lt_mortality', 'SEQ_NUM_PROC']]\n",
    "\n",
    "plot_df['dead_married'] = my_df['lt_mortality'] + my_df['married']\n",
    "plot_df['dead_insurance'] = my_df['lt_mortality'] + my_df['own insurance']\n",
    "plot_df['dead_home']= my_df['lt_mortality'] + my_df['sent home']\n",
    "plot_df['dead_married'] = (plot_df['dead_married'] == 2)\n",
    "plot_df['dead_insurance'] = (plot_df['dead_insurance'] == 2)\n",
    "plot_df['dead_home'] = (plot_df['dead_home'] == 2)\n",
    "\n",
    "plot_df['dead_not_married'] = (plot_df['lt_mortality'] - plot_df['dead_married'])\n",
    "plot_df['dead_not_insurance'] = (plot_df['lt_mortality'] - plot_df['dead_insurance'])\n",
    "plot_df['dead_not_home'] = (plot_df['lt_mortality'] - plot_df['dead_home'])\n",
    "\n",
    "final_plot_df = plot_df.groupby(['SEQ_NUM_PROC'], as_index=False).sum()\n",
    "\n",
    "sns.set_context('talk')\n",
    "f, ax = plt.subplots(1, 3, figsize = (18,10))\n",
    "\n",
    "positive = ['dead_married', 'dead_insurance', 'dead_home']\n",
    "negative = ['dead_not_married', 'dead_not_insurance', 'dead_not_home']    \n",
    "\n",
    "for i in range(3):\n",
    "    sns.stripplot(y=final_plot_df['SEQ_NUM_PROC'], x=final_plot_df[positive[i]], size=10, orient=\"h\",\n",
    "          palette=\"Blues_d\", linewidth=0, ax = ax[i])\n",
    "    \n",
    "for i in range(3):\n",
    "    sns.stripplot(y=final_plot_df['SEQ_NUM_PROC'], x=final_plot_df[negative[i]], size=10, orient=\"h\",\n",
    "          palette=\"Reds_d\", linewidth=0, ax = ax[i])\n",
    "\n",
    "titles = [\"Married\", \"Private Insurance\", \"Sent Home\"]\n",
    "\n",
    "for ax, title in zip(ax.flat, titles):\n",
    "\n",
    "    ax.set(title=title, xlabel=\"Deaths\", ylabel=\"\")\n",
    "    ax.xaxis.grid(False)\n",
    "    ax.yaxis.grid(True)"
   ]
  },
  {
   "cell_type": "markdown",
   "metadata": {
    "slideshow": {
     "slide_type": "skip"
    }
   },
   "source": [
    "In each of these plots, blue represents the affirmation of the title, while red represents the refutation. In regards to density, these plots match the earlier histogram by showing a high amount of deaths between 10 and 15 procedures. Furthermore, the total amount of deaths in each of the categories confirm the previous weighting, of whether or not one is sent home having the strongest impact, and marital status having the lowest impact."
   ]
  },
  {
   "cell_type": "markdown",
   "metadata": {
    "slideshow": {
     "slide_type": "slide"
    }
   },
   "source": [
    "## Neural Network\n",
    "A neural network was created to predict long term mortality. For each encounter, there will be information about the amount of procedures, types of diagnoses, marital status, insurance status, and whether or not that patient was sent home after their stay in the hospital. Additionally, there is one more column designating whether or not that patient died within one year of being discharged."
   ]
  },
  {
   "cell_type": "markdown",
   "metadata": {
    "slideshow": {
     "slide_type": "slide"
    }
   },
   "source": [
    "## Step 1\n",
    "Bucket the ICD codes for diagnoses to create categories."
   ]
  },
  {
   "cell_type": "markdown",
   "metadata": {
    "slideshow": {
     "slide_type": "skip"
    }
   },
   "source": [
    "First, another column was created to organize the ICD9 codes into the buckets from above. This decreases the amount of input data, and combines related information together. We designate each category by the first number in that category. (We start at 0 to avoid conflict with the amount of procedures.)\n",
    "- 001-139\tInfectious And Parasitic Diseases\n",
    "- 140-239\tNeoplasms\n",
    "- 240-279\tEndocrine, Nutritional And Metabolic Diseases, And Immunity Disorders\n",
    "- 280-289\tDiseases Of The Blood And Blood-Forming Organs\n",
    "- 290-319\tMental Disorders\n",
    "- 320-389\tDiseases Of The Nervous System And Sense Organs\n",
    "- 390-459\tDiseases Of The Circulatory System\n",
    "- 460-519\tDiseases Of The Respiratory System\n",
    "- 520-579\tDiseases Of The Digestive System\n",
    "- 580-629\tDiseases Of The Genitourinary System\n",
    "- 630-679\tComplications Of Pregnancy, Childbirth, And The Puerperium\n",
    "- 680-709\tDiseases Of The Skin And Subcutaneous Tissue\n",
    "- 710-739\tDiseases Of The Musculoskeletal System And Connective Tissue\n",
    "- 740-759\tCongenital Anomalies\n",
    "- 760-779\tCertain Conditions Originating In The Perinatal Period\n",
    "- 780-799\tSymptoms, Signs, And Ill-Defined Conditions\n",
    "- 800-999\tInjury And Poisoning"
   ]
  },
  {
   "cell_type": "code",
   "execution_count": 27,
   "metadata": {
    "slideshow": {
     "slide_type": "skip"
    }
   },
   "outputs": [],
   "source": [
    "for i in my_df['ICD9_CODE_DIAG'].index:\n",
    "    code = my_df.at[i, 'ICD9_CODE_DIAG']\n",
    "    if code >= 1 and code <= 139:\n",
    "        my_df.at[i, 'ICD9_BUCKET'] = 0\n",
    "    elif code >= 140 and code <= 239:\n",
    "        my_df.at[i, 'ICD9_BUCKET'] = 140\n",
    "    elif code >= 240 and code <= 279:\n",
    "        my_df.at[i, 'ICD9_BUCKET'] = 240\n",
    "    elif code >= 280 and code <= 289:\n",
    "        my_df.at[i, 'ICD9_BUCKET'] = 280\n",
    "    elif code >= 290 and code <= 319:\n",
    "        my_df.at[i, 'ICD9_BUCKET'] = 290\n",
    "    elif code >= 320 and code <= 389:\n",
    "        my_df.at[i, 'ICD9_BUCKET'] = 320\n",
    "    elif code >= 390 and code <= 459:\n",
    "        my_df.at[i, 'ICD9_BUCKET'] = 390\n",
    "    elif code >= 460 and code <= 519:\n",
    "        my_df.at[i, 'ICD9_BUCKET'] = 460\n",
    "    elif code >= 520 and code <= 579:\n",
    "        my_df.at[i, 'ICD9_BUCKET'] = 520\n",
    "    elif code >= 580 and code <= 629:\n",
    "        my_df.at[i, 'ICD9_BUCKET'] = 580\n",
    "    elif code >= 630 and code <= 679:\n",
    "        my_df.at[i, 'ICD9_BUCKET'] = 630\n",
    "    elif code >= 680 and code <= 709:\n",
    "        my_df.at[i, 'ICD9_BUCKET'] = 680\n",
    "    elif code >= 710 and code <= 739:\n",
    "        my_df.at[i, 'ICD9_BUCKET'] = 710\n",
    "    elif code >= 740 and code <= 759:\n",
    "        my_df.at[i, 'ICD9_BUCKET'] = 740\n",
    "    elif code >= 760 and code <= 779:\n",
    "        my_df.at[i, 'ICD9_BUCKET'] = 760\n",
    "    elif code >= 780 and code <= 799:\n",
    "        my_df.at[i, 'ICD9_BUCKET'] = 780\n",
    "    elif code >= 800 and code <= 999:\n",
    "        my_df.at[i, 'ICD9_BUCKET'] = 800"
   ]
  },
  {
   "cell_type": "code",
   "execution_count": 28,
   "metadata": {
    "slideshow": {
     "slide_type": "subslide"
    }
   },
   "outputs": [
    {
     "data": {
      "text/html": [
       "<div>\n",
       "<style scoped>\n",
       "    .dataframe tbody tr th:only-of-type {\n",
       "        vertical-align: middle;\n",
       "    }\n",
       "\n",
       "    .dataframe tbody tr th {\n",
       "        vertical-align: top;\n",
       "    }\n",
       "\n",
       "    .dataframe thead th {\n",
       "        text-align: right;\n",
       "    }\n",
       "</style>\n",
       "<table border=\"1\" class=\"dataframe\">\n",
       "  <thead>\n",
       "    <tr style=\"text-align: right;\">\n",
       "      <th></th>\n",
       "      <th>SUBJECT_ID</th>\n",
       "      <th>HADM_ID</th>\n",
       "      <th>MARITAL_STATUS</th>\n",
       "      <th>INSURANCE</th>\n",
       "      <th>DISCHARGE_LOCATION</th>\n",
       "      <th>SEQ_NUM_PROC</th>\n",
       "      <th>ICD9_CODE_PROC</th>\n",
       "      <th>PROC_NAME</th>\n",
       "      <th>SEQ_NUM_DIAG</th>\n",
       "      <th>ICD9_CODE_DIAG</th>\n",
       "      <th>DIAG_NAME</th>\n",
       "      <th>lt_mortality</th>\n",
       "      <th>married</th>\n",
       "      <th>own insurance</th>\n",
       "      <th>sent home</th>\n",
       "      <th>ICD9_BUCKET</th>\n",
       "    </tr>\n",
       "  </thead>\n",
       "  <tbody>\n",
       "    <tr>\n",
       "      <th>0</th>\n",
       "      <td>24810</td>\n",
       "      <td>143994</td>\n",
       "      <td>MARRIED</td>\n",
       "      <td>Private</td>\n",
       "      <td>HOME HEALTH CARE</td>\n",
       "      <td>40.0</td>\n",
       "      <td>9729.0</td>\n",
       "      <td>Non-op replacement NEC</td>\n",
       "      <td>1.0</td>\n",
       "      <td>533</td>\n",
       "      <td>Ac peptic ulc w perf-obs</td>\n",
       "      <td>0.0</td>\n",
       "      <td>1</td>\n",
       "      <td>1</td>\n",
       "      <td>1</td>\n",
       "      <td>520.0</td>\n",
       "    </tr>\n",
       "    <tr>\n",
       "      <th>1</th>\n",
       "      <td>24810</td>\n",
       "      <td>143994</td>\n",
       "      <td>MARRIED</td>\n",
       "      <td>Private</td>\n",
       "      <td>HOME HEALTH CARE</td>\n",
       "      <td>40.0</td>\n",
       "      <td>9729.0</td>\n",
       "      <td>Non-op replacement NEC</td>\n",
       "      <td>2.0</td>\n",
       "      <td>995</td>\n",
       "      <td>SIRS, NOS</td>\n",
       "      <td>0.0</td>\n",
       "      <td>1</td>\n",
       "      <td>1</td>\n",
       "      <td>1</td>\n",
       "      <td>800.0</td>\n",
       "    </tr>\n",
       "    <tr>\n",
       "      <th>2</th>\n",
       "      <td>24810</td>\n",
       "      <td>143994</td>\n",
       "      <td>MARRIED</td>\n",
       "      <td>Private</td>\n",
       "      <td>HOME HEALTH CARE</td>\n",
       "      <td>40.0</td>\n",
       "      <td>9729.0</td>\n",
       "      <td>Non-op replacement NEC</td>\n",
       "      <td>3.0</td>\n",
       "      <td>567</td>\n",
       "      <td>Peritonitis NOS</td>\n",
       "      <td>0.0</td>\n",
       "      <td>1</td>\n",
       "      <td>1</td>\n",
       "      <td>1</td>\n",
       "      <td>520.0</td>\n",
       "    </tr>\n",
       "    <tr>\n",
       "      <th>3</th>\n",
       "      <td>24810</td>\n",
       "      <td>143994</td>\n",
       "      <td>MARRIED</td>\n",
       "      <td>Private</td>\n",
       "      <td>HOME HEALTH CARE</td>\n",
       "      <td>40.0</td>\n",
       "      <td>9729.0</td>\n",
       "      <td>Non-op replacement NEC</td>\n",
       "      <td>4.0</td>\n",
       "      <td>452</td>\n",
       "      <td>Portal vein thrombosis</td>\n",
       "      <td>0.0</td>\n",
       "      <td>1</td>\n",
       "      <td>1</td>\n",
       "      <td>1</td>\n",
       "      <td>390.0</td>\n",
       "    </tr>\n",
       "    <tr>\n",
       "      <th>4</th>\n",
       "      <td>24810</td>\n",
       "      <td>143994</td>\n",
       "      <td>MARRIED</td>\n",
       "      <td>Private</td>\n",
       "      <td>HOME HEALTH CARE</td>\n",
       "      <td>40.0</td>\n",
       "      <td>9729.0</td>\n",
       "      <td>Non-op replacement NEC</td>\n",
       "      <td>5.0</td>\n",
       "      <td>567</td>\n",
       "      <td>Retroperiton abscess NEC</td>\n",
       "      <td>0.0</td>\n",
       "      <td>1</td>\n",
       "      <td>1</td>\n",
       "      <td>1</td>\n",
       "      <td>520.0</td>\n",
       "    </tr>\n",
       "  </tbody>\n",
       "</table>\n",
       "</div>"
      ],
      "text/plain": [
       "   SUBJECT_ID  HADM_ID MARITAL_STATUS INSURANCE DISCHARGE_LOCATION  \\\n",
       "0       24810   143994        MARRIED   Private   HOME HEALTH CARE   \n",
       "1       24810   143994        MARRIED   Private   HOME HEALTH CARE   \n",
       "2       24810   143994        MARRIED   Private   HOME HEALTH CARE   \n",
       "3       24810   143994        MARRIED   Private   HOME HEALTH CARE   \n",
       "4       24810   143994        MARRIED   Private   HOME HEALTH CARE   \n",
       "\n",
       "   SEQ_NUM_PROC  ICD9_CODE_PROC               PROC_NAME  SEQ_NUM_DIAG  \\\n",
       "0          40.0          9729.0  Non-op replacement NEC           1.0   \n",
       "1          40.0          9729.0  Non-op replacement NEC           2.0   \n",
       "2          40.0          9729.0  Non-op replacement NEC           3.0   \n",
       "3          40.0          9729.0  Non-op replacement NEC           4.0   \n",
       "4          40.0          9729.0  Non-op replacement NEC           5.0   \n",
       "\n",
       "   ICD9_CODE_DIAG                 DIAG_NAME  lt_mortality  married  \\\n",
       "0             533  Ac peptic ulc w perf-obs           0.0        1   \n",
       "1             995                 SIRS, NOS           0.0        1   \n",
       "2             567           Peritonitis NOS           0.0        1   \n",
       "3             452    Portal vein thrombosis           0.0        1   \n",
       "4             567  Retroperiton abscess NEC           0.0        1   \n",
       "\n",
       "   own insurance  sent home  ICD9_BUCKET  \n",
       "0              1          1        520.0  \n",
       "1              1          1        800.0  \n",
       "2              1          1        520.0  \n",
       "3              1          1        390.0  \n",
       "4              1          1        520.0  "
      ]
     },
     "execution_count": 28,
     "metadata": {},
     "output_type": "execute_result"
    }
   ],
   "source": [
    "my_df.head()"
   ]
  },
  {
   "cell_type": "markdown",
   "metadata": {
    "slideshow": {
     "slide_type": "slide"
    }
   },
   "source": [
    "## Step 2\n",
    "Merge the buckets into the data, and remove nonrelevant information."
   ]
  },
  {
   "cell_type": "markdown",
   "metadata": {
    "slideshow": {
     "slide_type": "notes"
    }
   },
   "source": [
    "The bucketed codes were merged into the existing dataframe, and nonrelevant information was removed. Only the numerical/binary categories were left as inputs, and mortality was kept as the output."
   ]
  },
  {
   "cell_type": "code",
   "execution_count": 29,
   "metadata": {
    "slideshow": {
     "slide_type": "subslide"
    }
   },
   "outputs": [
    {
     "data": {
      "text/html": [
       "<div>\n",
       "<style scoped>\n",
       "    .dataframe tbody tr th:only-of-type {\n",
       "        vertical-align: middle;\n",
       "    }\n",
       "\n",
       "    .dataframe tbody tr th {\n",
       "        vertical-align: top;\n",
       "    }\n",
       "\n",
       "    .dataframe thead th {\n",
       "        text-align: right;\n",
       "    }\n",
       "</style>\n",
       "<table border=\"1\" class=\"dataframe\">\n",
       "  <thead>\n",
       "    <tr style=\"text-align: right;\">\n",
       "      <th></th>\n",
       "      <th>SEQ_NUM_PROC</th>\n",
       "      <th>ICD9_BUCKET</th>\n",
       "      <th>married</th>\n",
       "      <th>own insurance</th>\n",
       "      <th>sent home</th>\n",
       "      <th>lt_mortality</th>\n",
       "    </tr>\n",
       "  </thead>\n",
       "  <tbody>\n",
       "    <tr>\n",
       "      <th>0</th>\n",
       "      <td>40.0</td>\n",
       "      <td>520.0</td>\n",
       "      <td>1</td>\n",
       "      <td>1</td>\n",
       "      <td>1</td>\n",
       "      <td>0.0</td>\n",
       "    </tr>\n",
       "    <tr>\n",
       "      <th>1</th>\n",
       "      <td>40.0</td>\n",
       "      <td>800.0</td>\n",
       "      <td>1</td>\n",
       "      <td>1</td>\n",
       "      <td>1</td>\n",
       "      <td>0.0</td>\n",
       "    </tr>\n",
       "    <tr>\n",
       "      <th>2</th>\n",
       "      <td>40.0</td>\n",
       "      <td>520.0</td>\n",
       "      <td>1</td>\n",
       "      <td>1</td>\n",
       "      <td>1</td>\n",
       "      <td>0.0</td>\n",
       "    </tr>\n",
       "    <tr>\n",
       "      <th>3</th>\n",
       "      <td>40.0</td>\n",
       "      <td>390.0</td>\n",
       "      <td>1</td>\n",
       "      <td>1</td>\n",
       "      <td>1</td>\n",
       "      <td>0.0</td>\n",
       "    </tr>\n",
       "    <tr>\n",
       "      <th>4</th>\n",
       "      <td>40.0</td>\n",
       "      <td>520.0</td>\n",
       "      <td>1</td>\n",
       "      <td>1</td>\n",
       "      <td>1</td>\n",
       "      <td>0.0</td>\n",
       "    </tr>\n",
       "  </tbody>\n",
       "</table>\n",
       "</div>"
      ],
      "text/plain": [
       "   SEQ_NUM_PROC  ICD9_BUCKET  married  own insurance  sent home  lt_mortality\n",
       "0          40.0        520.0        1              1          1           0.0\n",
       "1          40.0        800.0        1              1          1           0.0\n",
       "2          40.0        520.0        1              1          1           0.0\n",
       "3          40.0        390.0        1              1          1           0.0\n",
       "4          40.0        520.0        1              1          1           0.0"
      ]
     },
     "execution_count": 29,
     "metadata": {},
     "output_type": "execute_result"
    }
   ],
   "source": [
    "final_data = my_df[['SEQ_NUM_PROC', 'ICD9_BUCKET', 'married', \n",
    "                    'own insurance', 'sent home', 'lt_mortality']]\n",
    "final_data.head()"
   ]
  },
  {
   "cell_type": "markdown",
   "metadata": {
    "slideshow": {
     "slide_type": "slide"
    }
   },
   "source": [
    "## Step 3\n",
    "Categorize the data by assigning numerical labels to each of the values."
   ]
  },
  {
   "cell_type": "markdown",
   "metadata": {
    "slideshow": {
     "slide_type": "skip"
    }
   },
   "source": [
    "Next, all of the data was categorized to get the numbers as small as possible for faster computations. The ICD buckets were mapped from their current bins to a number between 0 and 17. The number of procedures remained mostly the same, but numbers that had a frequency of zero were removed, bringing the highest number from 39 to 37. The output shows the first 10 inputs as stacked rows."
   ]
  },
  {
   "cell_type": "code",
   "execution_count": 30,
   "metadata": {
    "slideshow": {
     "slide_type": "skip"
    }
   },
   "outputs": [],
   "source": [
    "categories = ['ICD9_BUCKET', 'married', \n",
    "                    'own insurance', 'sent home', 'SEQ_NUM_PROC']\n",
    "outputs = 'lt_mortality'\n",
    "\n",
    "fnn_df = pd.DataFrame(columns = categories)\n",
    "\n",
    "categorical_data = np.zeros((5, len(final_data)))\n",
    "counter = 0\n",
    "\n",
    "for category in categories:\n",
    "    fnn_df[category] = final_data[category].astype('category')\n",
    "    categorical_data[counter] = fnn_df[category].cat.codes.values\n",
    "    counter += 1\n",
    "\n",
    "categorical_data = categorical_data.transpose()\n",
    "categorical_data = torch.tensor(categorical_data, dtype=torch.float)\n",
    "\n",
    "output_data = torch.tensor(final_data[outputs].values, dtype=torch.float).flatten()"
   ]
  },
  {
   "cell_type": "code",
   "execution_count": 31,
   "metadata": {
    "slideshow": {
     "slide_type": "subslide"
    }
   },
   "outputs": [
    {
     "data": {
      "text/plain": [
       "tensor([[ 8.,  1.,  1.,  1., 37.],\n",
       "        [16.,  1.,  1.,  1., 37.],\n",
       "        [ 8.,  1.,  1.,  1., 37.],\n",
       "        [ 6.,  1.,  1.,  1., 37.],\n",
       "        [ 8.,  1.,  1.,  1., 37.],\n",
       "        [ 8.,  1.,  1.,  1., 37.],\n",
       "        [ 2.,  1.,  1.,  1., 37.],\n",
       "        [ 2.,  1.,  1.,  1., 37.],\n",
       "        [ 8.,  1.,  1.,  1., 37.],\n",
       "        [ 8.,  1.,  1.,  1., 37.]])"
      ]
     },
     "execution_count": 31,
     "metadata": {},
     "output_type": "execute_result"
    }
   ],
   "source": [
    "categorical_data[:10]"
   ]
  },
  {
   "cell_type": "markdown",
   "metadata": {
    "slideshow": {
     "slide_type": "slide"
    }
   },
   "source": [
    "## Step 4\n",
    "Split the data into a training set and a testing set. "
   ]
  },
  {
   "cell_type": "markdown",
   "metadata": {
    "slideshow": {
     "slide_type": "skip"
    }
   },
   "source": [
    "Now that the data was in a usable format, it was split into a training set and a testing set. For purposes of divisibility, a 5:1 training:testing split was used, generating 366140 training points and 73228 testing points."
   ]
  },
  {
   "cell_type": "code",
   "execution_count": 32,
   "metadata": {
    "slideshow": {
     "slide_type": "skip"
    }
   },
   "outputs": [],
   "source": [
    "test_size = len(fnn_df) / 6\n",
    "\n",
    "input_train_data = categorical_data[:int(len(fnn_df)-test_size)]\n",
    "input_test_data = categorical_data[int(len(fnn_df)-test_size):len(fnn_df)]\n",
    "output_train_data  = output_data[:int(len(fnn_df)-test_size)]\n",
    "output_test_data = output_data[int(len(fnn_df)-test_size):len(fnn_df)]"
   ]
  },
  {
   "cell_type": "markdown",
   "metadata": {
    "slideshow": {
     "slide_type": "slide"
    }
   },
   "source": [
    "## Step 5\n",
    "Create the network."
   ]
  },
  {
   "cell_type": "markdown",
   "metadata": {
    "slideshow": {
     "slide_type": "skip"
    }
   },
   "source": [
    "Now that the data was appropriately split, the training set was put through a multilayer, backpropogated feedforward neural network. The inputs were fed to a linear layer to apply the weights of the neuron, sent to an activating ReLU layer, and then normalized. This was repeated one more time, before going through a dropout layer to avoid any overfitting, and to regularize the network. Finally, this was sent to the output layer, with a threshold of 0.5."
   ]
  },
  {
   "cell_type": "code",
   "execution_count": 33,
   "metadata": {
    "slideshow": {
     "slide_type": "skip"
    }
   },
   "outputs": [],
   "source": [
    "epochs = 50\n",
    "batch_size = 128\n",
    "learning_rate = 0.001\n",
    "\n",
    "class trainData(Dataset):\n",
    "    \n",
    "    def __init__(self, X_data, y_data):\n",
    "        self.X_data = X_data\n",
    "        self.y_data = y_data\n",
    "        \n",
    "    def __getitem__(self, index):\n",
    "        return self.X_data[index], self.y_data[index]\n",
    "        \n",
    "    def __len__ (self):\n",
    "        return len(self.X_data)\n",
    "\n",
    "\n",
    "## test data    \n",
    "class testData(Dataset):\n",
    "    \n",
    "    def __init__(self, X_data):\n",
    "        self.X_data = X_data\n",
    "        \n",
    "    def __getitem__(self, index):\n",
    "        return self.X_data[index]\n",
    "        \n",
    "    def __len__ (self):\n",
    "        return len(self.X_data)\n",
    "    \n",
    "train_data = trainData(torch.FloatTensor(input_train_data), \n",
    "                       torch.FloatTensor(output_train_data))\n",
    "test_data = testData(torch.FloatTensor(input_test_data))\n",
    "    \n",
    "train_loader = DataLoader(dataset=train_data, batch_size=64, shuffle=True)\n",
    "test_loader = DataLoader(dataset=test_data, batch_size=1)\n",
    "    \n",
    "\n",
    "class Mortality_Predict(nn.Module):\n",
    "    def __init__(self, input_dim, hidden_dim, output_dim):\n",
    "        super(Mortality_Predict, self).__init__()\n",
    "        # Number of input features is 12.\n",
    "        self.layer_1 = nn.Linear(input_dim, hidden_dim) \n",
    "        self.relu1 = nn.ReLU()\n",
    "        self.batchnorm1 = nn.BatchNorm1d(hidden_dim)\n",
    "        self.layer_2 = nn.Linear(hidden_dim, hidden_dim)\n",
    "        self.relu2 = nn.ReLU()\n",
    "        self.batchnorm2 = nn.BatchNorm1d(hidden_dim)\n",
    "        self.dropout = nn.Dropout(p=0.4)\n",
    "        self.layer_out = nn.Linear(hidden_dim, output_dim) \n",
    "    \n",
    "        \n",
    "    def forward(self, inputs):\n",
    "        x = self.relu1(self.layer_1(inputs))\n",
    "        x = self.batchnorm1(x)\n",
    "        x = self.relu2(self.layer_2(x))\n",
    "        x = self.batchnorm2(x)\n",
    "        x = self.dropout(x)\n",
    "        x = self.layer_out(x)\n",
    "        \n",
    "        return x\n",
    "\n",
    "device = torch.device(\"cuda:0\" if torch.cuda.is_available() else \"cpu\")\n",
    "model = Mortality_Predict(5, 10, 1)\n",
    "model.to(device)\n",
    "criterion = nn.BCEWithLogitsLoss()\n",
    "optimizer = torch.optim.Adam(model.parameters(), lr=learning_rate)"
   ]
  },
  {
   "cell_type": "code",
   "execution_count": 34,
   "metadata": {
    "slideshow": {
     "slide_type": "subslide"
    }
   },
   "outputs": [
    {
     "name": "stdout",
     "output_type": "stream",
     "text": [
      "Mortality_Predict(\n",
      "  (layer_1): Linear(in_features=5, out_features=10, bias=True)\n",
      "  (relu1): ReLU()\n",
      "  (batchnorm1): BatchNorm1d(10, eps=1e-05, momentum=0.1, affine=True, track_running_stats=True)\n",
      "  (layer_2): Linear(in_features=10, out_features=10, bias=True)\n",
      "  (relu2): ReLU()\n",
      "  (batchnorm2): BatchNorm1d(10, eps=1e-05, momentum=0.1, affine=True, track_running_stats=True)\n",
      "  (dropout): Dropout(p=0.4, inplace=False)\n",
      "  (layer_out): Linear(in_features=10, out_features=1, bias=True)\n",
      ")\n"
     ]
    }
   ],
   "source": [
    "print(model)"
   ]
  },
  {
   "cell_type": "markdown",
   "metadata": {
    "slideshow": {
     "slide_type": "slide"
    }
   },
   "source": [
    "## Step 6\n",
    "Train the model. It was trained over 50 epochs, with a batch size of 128."
   ]
  },
  {
   "cell_type": "code",
   "execution_count": 35,
   "metadata": {
    "slideshow": {
     "slide_type": "skip"
    }
   },
   "outputs": [
    {
     "name": "stdout",
     "output_type": "stream",
     "text": [
      "Epoch 001: | Loss: 0.10851 | Acc: 97.062\n",
      "Epoch 011: | Loss: 0.06667 | Acc: 97.643\n",
      "Epoch 021: | Loss: 0.06556 | Acc: 97.641\n",
      "Epoch 031: | Loss: 0.06531 | Acc: 97.649\n",
      "Epoch 041: | Loss: 0.06519 | Acc: 97.649\n"
     ]
    }
   ],
   "source": [
    "loss_vector = []\n",
    "acc_vector = []\n",
    "\n",
    "def binary_acc(y_pred, y_test):\n",
    "    y_pred_tag = torch.round(torch.sigmoid(y_pred))\n",
    "\n",
    "    correct_results_sum = (y_pred_tag == y_test).sum().float()\n",
    "    acc = correct_results_sum/y_test.shape[0]\n",
    "    acc = torch.round(acc * 100)\n",
    "    \n",
    "    return acc\n",
    "\n",
    "model.train()\n",
    "for e in range(1, epochs+1):\n",
    "    epoch_loss = 0\n",
    "    epoch_acc = 0\n",
    "    for X_batch, y_batch in train_loader:\n",
    "        X_batch, y_batch = X_batch.to(device), y_batch.to(device)\n",
    "        optimizer.zero_grad()\n",
    "        \n",
    "        y_pred = model(X_batch)\n",
    "        \n",
    "        loss = criterion(y_pred, y_batch.unsqueeze(1))\n",
    "        acc = binary_acc(y_pred, y_batch.unsqueeze(1))\n",
    "        \n",
    "        loss.backward()\n",
    "        optimizer.step()\n",
    "        \n",
    "        epoch_loss += loss.item()\n",
    "        epoch_acc += acc.item()\n",
    "    loss_vector.append(epoch_loss/len(train_loader))\n",
    "    acc_vector.append(epoch_acc/len(train_loader))\n",
    "    if (e%10 - 1) == 0:\n",
    "        print(f'Epoch {e+0:03}: | Loss: {epoch_loss/len(train_loader):.5f} | Acc: {epoch_acc/len(train_loader):.3f}')"
   ]
  },
  {
   "cell_type": "code",
   "execution_count": 36,
   "metadata": {
    "slideshow": {
     "slide_type": "subslide"
    }
   },
   "outputs": [
    {
     "data": {
      "image/png": "[encoded data removed]",
      "text/plain": [
       "<Figure size 432x288 with 2 Axes>"
      ]
     },
     "metadata": {
      "needs_background": "light"
     },
     "output_type": "display_data"
    }
   ],
   "source": [
    "fig, ax1 = plt.subplots()\n",
    "\n",
    "color = 'tab:red'\n",
    "ax1.set_xlabel('Epoch')\n",
    "ax1.set_ylabel('Loss', color=color)\n",
    "ax1.plot(loss_vector, color=color)\n",
    "ax1.tick_params(axis='y', labelcolor=color)\n",
    "\n",
    "ax2 = ax1.twinx()  \n",
    "\n",
    "color = 'tab:blue'\n",
    "ax2.set_ylabel('Accuracy', color=color)  \n",
    "ax2.plot(acc_vector, color=color)\n",
    "ax2.tick_params(axis='y', labelcolor=color)\n",
    "\n",
    "fig.tight_layout() "
   ]
  },
  {
   "cell_type": "markdown",
   "metadata": {
    "slideshow": {
     "slide_type": "slide"
    }
   },
   "source": [
    "## Step 7\n",
    "Test and evaluate the model.\n",
    "Something is \"true\" if the result was guessed correctly, and \"false\" if not.\n",
    "Something is \"positive\" if the result was a 1, and \"negative\" if it was a 0.\n",
    "- Recall - the ability to find all the relevant cases (everyone who will die within one year)\n",
    "\n",
    "$\\frac{TP}{TP + FN}$\n",
    "\n",
    "\n",
    "- Precision - the ability to identity relevant data points (only who will die within one year)\n",
    "\n",
    "$\\frac{TP}{TP + FP}$\n",
    "\n",
    "- Accuracy - total correct\n",
    "\n",
    "$\\frac{TP + TN}{Total}$"
   ]
  },
  {
   "cell_type": "code",
   "execution_count": 38,
   "metadata": {
    "slideshow": {
     "slide_type": "skip"
    }
   },
   "outputs": [
    {
     "data": {
      "text/plain": [
       "array([[73228]])"
      ]
     },
     "execution_count": 38,
     "metadata": {},
     "output_type": "execute_result"
    }
   ],
   "source": [
    "y_pred_list = []\n",
    "model.eval()\n",
    "with torch.no_grad():\n",
    "    for X_batch in test_loader:\n",
    "        X_batch = X_batch.to(device)\n",
    "        y_test_pred = model(X_batch)\n",
    "        y_test_pred = torch.sigmoid(y_test_pred)\n",
    "        y_pred_tag = torch.round(y_test_pred)\n",
    "        y_pred_list.append(y_pred_tag.cpu().numpy())\n",
    "\n",
    "y_pred_list = [a.squeeze().tolist() for a in y_pred_list]\n",
    "\n",
    "confusion_matrix(output_test_data, y_pred_list)"
   ]
  },
  {
   "cell_type": "code",
   "execution_count": 39,
   "metadata": {
    "slideshow": {
     "slide_type": "subslide"
    }
   },
   "outputs": [
    {
     "name": "stdout",
     "output_type": "stream",
     "text": [
      "              precision    recall  f1-score   support\n",
      "\n",
      "         0.0       1.00      1.00      1.00     73228\n",
      "\n",
      "    accuracy                           1.00     73228\n",
      "   macro avg       1.00      1.00      1.00     73228\n",
      "weighted avg       1.00      1.00      1.00     73228\n",
      "\n"
     ]
    }
   ],
   "source": [
    "print(classification_report(output_test_data, y_pred_list))"
   ]
  },
  {
   "cell_type": "markdown",
   "metadata": {
    "slideshow": {
     "slide_type": "slide"
    }
   },
   "source": [
    "## Results\n",
    "- Model performed well - the test case ended with 100% accuracy.\n",
    "- Finetune hyperpameters for best combination of accuracy and speed.\n",
    "- Add biometric data."
   ]
  },
  {
   "cell_type": "markdown",
   "metadata": {
    "slideshow": {
     "slide_type": "notes"
    }
   },
   "source": [
    "The model performed remarkably well. When patients are about to be discharged from the hospital then, physicans can use this model to see whether or not they will die within a year. If the model predicts that they will, a longer hospital stay, or a different long term treatment plan can be suggested. If the model predicts that they will not, then the physican can say with near-complete confidence that their current plan is a good one. If the model were to be improved, additional biometric data can be added - sex, age, heart rate, existing conditions, etc. can all be incorporated into the model. This will give the network more data to work with, and more weights and parameters to tune, allowing it to potentially increase it accuracy."
   ]
  },
  {
   "cell_type": "markdown",
   "metadata": {
    "slideshow": {
     "slide_type": "slide"
    }
   },
   "source": [
    "## Conclusions\n",
    "- We stated that physicians needed a method to predict long term mortality.\n",
    "- This correctly predicted mortality within a year at an extremely high benchmark.\n",
    "- Physicans can use this information to make better recommendations of long term treatment plans.\n",
    "- Overall, this can be a helpful tool to improve population health and continuity of care."
   ]
  },
  {
   "cell_type": "markdown",
   "metadata": {
    "slideshow": {
     "slide_type": "notes"
    }
   },
   "source": [
    "We stated that physicans needed a method to predict long term mortality, in order to increase population health, and maintain continuity of care. This neural network aids them in doing so. If they have a current discharge plan, and know certain socioeconomic and health factors of a patient, then they can put that information into this network, and see what the prediction on mortality is. Using that information, they can make a better judgement of a treatment plan. This can increase the lifespan of a patient once he is discharged, improving overall population health when used by many. In regards to continuity of care, if a patient is predicted to die, the he/she can be sent to a rehab center, a nursing center, a long-term care hospital ward, etc. in order to maintain continuity of care. All in all, this model performed with a high accuracy, and can be a useful tool for physicans."
   ]
  },
  {
   "cell_type": "markdown",
   "metadata": {
    "slideshow": {
     "slide_type": "skip"
    }
   },
   "source": [
    "### Grant Mak (gem18)"
   ]
  }
 ],
 "metadata": {
  "celltoolbar": "Slideshow",
  "kernelspec": {
   "display_name": "Python 3",
   "language": "python",
   "name": "python3"
  },
  "language_info": {
   "codemirror_mode": {
    "name": "ipython",
    "version": 3
   },
   "file_extension": ".py",
   "mimetype": "text/x-python",
   "name": "python",
   "nbconvert_exporter": "python",
   "pygments_lexer": "ipython3",
   "version": "3.7.4"
  },
  "widgets": {
   "application/vnd.jupyter.widget-state+json": {
    "state": {},
    "version_major": 2,
    "version_minor": 0
   }
  }
 },
 "nbformat": 4,
 "nbformat_minor": 2
}
